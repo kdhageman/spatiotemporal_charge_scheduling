{
 "cells": [
  {
   "cell_type": "code",
   "execution_count": null,
   "id": "eb533718",
   "metadata": {
    "jupyter": {
     "outputs_hidden": false
    },
    "pycharm": {
     "name": "#%%\n"
    }
   },
   "outputs": [],
   "source": [
    "import pickle\n",
    "import sys\n",
    "import os\n",
    "import numpy as np\n",
    "\n",
    "import pandas as pd\n",
    "import seaborn as sns\n",
    "import matplotlib.pyplot as plt\n",
    "\n",
    "sys.path.append(os.path.abspath('..'))\n",
    "from util.scenario import Scenario"
   ]
  },
  {
   "cell_type": "code",
   "execution_count": null,
   "id": "ee3d7fe5",
   "metadata": {
    "jupyter": {
     "outputs_hidden": false
    },
    "pycharm": {
     "name": "#%%\n"
    }
   },
   "outputs": [],
   "source": [
    "positions_S = [\n",
    "    [20, 10, 0],\n",
    "    [30, 36, 0],\n",
    "]"
   ]
  },
  {
   "cell_type": "code",
   "execution_count": null,
   "id": "db9a906e",
   "metadata": {
    "jupyter": {
     "outputs_hidden": false
    },
    "pycharm": {
     "name": "#%%\n"
    }
   },
   "outputs": [],
   "source": [
    "flight_sequence_fpath = \"../out/flight_sequences/villalvernia_3/flight_sequences.pkl\"\n",
    "with open(flight_sequence_fpath, 'rb') as f:\n",
    "    flight_sequences = pickle.load(f)"
   ]
  },
  {
   "cell_type": "code",
   "execution_count": null,
   "id": "54fcd88a",
   "metadata": {
    "jupyter": {
     "outputs_hidden": false
    },
    "pycharm": {
     "name": "#%%\n"
    }
   },
   "outputs": [],
   "source": [
    "sc = Scenario(positions_S, flight_sequences)"
   ]
  },
  {
   "cell_type": "code",
   "execution_count": null,
   "id": "d5d2c9e9",
   "metadata": {
    "jupyter": {
     "outputs_hidden": false
    },
    "pycharm": {
     "name": "#%%\n"
    }
   },
   "outputs": [],
   "source": [
    "data = []\n",
    "for d in range(sc.N_d):\n",
    "    for i, distance in enumerate(sc.D_N[d, -1, :]):\n",
    "        data.append((d, i, distance))\n",
    "\n",
    "columns = ['uav', 'i', 'distance']\n",
    "df = pd.DataFrame(data=data, columns=columns)"
   ]
  },
  {
   "cell_type": "code",
   "execution_count": null,
   "id": "9d6399b2",
   "metadata": {
    "pycharm": {
     "name": "#%%\n"
    }
   },
   "outputs": [],
   "source": [
    "_, ax = plt.subplots(figsize=np.array((4.5,2))*1, dpi=100)\n",
    "sns.histplot(data=df, x='distance', hue='uav', cumulative=True, fill=False, element='step', stat='density', common_norm=False)\n",
    "plt.xscale('log')\n",
    "xmin, xmax = plt.xlim()\n",
    "plt.xlim([0.5, xmax])\n",
    "plt.show()"
   ]
  },
  {
   "cell_type": "code",
   "execution_count": null,
   "id": "2c242157",
   "metadata": {
    "pycharm": {
     "name": "#%%\n"
    }
   },
   "outputs": [],
   "source": [
    "df.groupby('uav').distance.max()"
   ]
  },
  {
   "cell_type": "code",
   "execution_count": null,
   "id": "df160bcb",
   "metadata": {
    "pycharm": {
     "name": "#%%\n"
    }
   },
   "outputs": [],
   "source": [
    "df.groupby('uav').distance.mean()"
   ]
  },
  {
   "cell_type": "code",
   "execution_count": null,
   "id": "c10b648b",
   "metadata": {
    "pycharm": {
     "name": "#%%\n"
    }
   },
   "outputs": [],
   "source": [
    "df[lambda x: x.uav == 0][lambda x: x.distance > 2.33 * 2]"
   ]
  },
  {
   "cell_type": "code",
   "execution_count": null,
   "id": "e9da6dd8-5a85-498a-8214-3f2d26d9bcba",
   "metadata": {},
   "outputs": [],
   "source": [
    "df.groupby('uav').distance.mean()"
   ]
  },
  {
   "cell_type": "code",
   "execution_count": null,
   "id": "8497652f-63d7-43d8-9705-6ba9569b1bab",
   "metadata": {},
   "outputs": [],
   "source": [
    "df[lambda x: x.uav == 0][lambda x: x.distance > 2.33 * 2]"
   ]
  }
 ],
 "metadata": {
  "kernelspec": {
   "display_name": "Python 3 (ipykernel)",
   "language": "python",
   "name": "python3"
  },
  "language_info": {
   "codemirror_mode": {
    "name": "ipython",
    "version": 3
   },
   "file_extension": ".py",
   "mimetype": "text/x-python",
   "name": "python",
   "nbconvert_exporter": "python",
   "pygments_lexer": "ipython3",
   "version": "3.8.13"
  }
 },
 "nbformat": 4,
 "nbformat_minor": 5
}

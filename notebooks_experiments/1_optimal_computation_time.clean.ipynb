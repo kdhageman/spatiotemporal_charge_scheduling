{
 "cells": [
  {
   "cell_type": "code",
   "execution_count": null,
   "id": "497b5ba1-7dda-4de5-b814-c268630d49ea",
   "metadata": {
    "pycharm": {
     "name": "#%%\n"
    }
   },
   "outputs": [],
   "source": [
    "%reload_ext autoreload\n",
    "%autoreload 2\n",
    "\n",
    "import os\n",
    "import json\n",
    "import pandas as pd\n",
    "import matplotlib.pyplot as plt\n",
    "import re\n",
    "import seaborn as sns\n",
    "from seaborn import color_palette\n",
    "import numpy as np\n",
    "from util import load_results_from_dir\n",
    "\n",
    "sns.set_palette('Set1')\n",
    "plt.rcParams.update(\n",
    "    {\n",
    "        \"text.usetex\": True,\n",
    "        \"font.family\": \"serif\",\n",
    "        # \"font.serif\": [\"Computer Modern Roman\", \"Times New Roman\"] + plt.rcParams[\"font.serif\"],\n",
    "        \"text.latex.preamble\": r\"\\usepackage[T1]{fontenc} \\usepackage[utf8]{inputenc} \\usepackage{lmodern}\",\n",
    "    }\n",
    ")\n",
    "figsize=(5,2.2)\n",
    "dpi = 150\n",
    "parameters = ['scheduler', 'N_w', 'N_d', 'N_s', 'W_hat', 'pi', 'sigma', 'epsilon', 'int_feas_tol', 'v', 'r_charge', 'r_deplete', 'B_min', 'B_max', 'B_start']"
   ]
  },
  {
   "cell_type": "markdown",
   "id": "be497686-15b8-4e9f-80d4-7db42e0095b8",
   "metadata": {},
   "source": [
    "# Load data"
   ]
  },
  {
   "cell_type": "code",
   "execution_count": null,
   "id": "e55c5e26-16cc-4973-83a2-92ee8c6eecb3",
   "metadata": {},
   "outputs": [],
   "source": [
    "rootdir = \"../out/villalvernia.elrond/optimal_perf\""
   ]
  },
  {
   "cell_type": "code",
   "execution_count": null,
   "id": "51a48d86-d52a-4002-9660-c417fd555c96",
   "metadata": {
    "pycharm": {
     "name": "#%%\n"
    },
    "tags": []
   },
   "outputs": [],
   "source": [
    "df = load_results_from_dir(rootdir)\n",
    "df['experiment_type'] = None\n",
    "df.loc[df.scheduler == 'naivescheduler', 'experiment_type'] = 'naive'\n",
    "df.loc[(df.scheduler == 'milpscheduler') & (df.pi == np.inf) & (df.sigma == 1), 'experiment_type'] = 'optimal'\n",
    "df.loc[(df.scheduler == 'milpscheduler') & (df.pi == np.inf) & (df.sigma == 2), 'experiment_type'] = 'sigma2'\n",
    "df.loc[(df.scheduler == 'milpscheduler') & (df.pi == np.inf) & (df.sigma == 3), 'experiment_type'] = 'sigma3'\n",
    "df.loc[(df.scheduler == 'milpscheduler') & (df.W_hat == 10) & (df.pi == 8) & (df.sigma == 1), 'experiment_type'] = 'fixed_w_hat_10'\n",
    "df.loc[(df.scheduler == 'milpscheduler') & (df.W_hat == 15) & (df.pi == 13) & (df.sigma == 1), 'experiment_type'] = 'fixed_w_hat_15'\n",
    "\n",
    "# filter out non-relevant measurements\n",
    "df = df[lambda x: x.trial == 1]\n",
    "df = df[lambda x: x.voxel_size <= 7]\n",
    "df = df[lambda x: x.B_min == 0.8]\n",
    "\n",
    "# remove duplicates\n",
    "idx = df[['N_s', 'N_d', 'voxel_size', 'W_hat', 'pi', 'sigma', 'epsilon', 'int_feas_tol', 'trial']].drop_duplicates().index\n",
    "df = df.loc[idx]"
   ]
  },
  {
   "cell_type": "code",
   "execution_count": null,
   "id": "f3d10f5a-961c-4702-8138-baeab8dbe0dd",
   "metadata": {},
   "outputs": [],
   "source": [
    "print(f\"Number of samples: {df.shape[0]:,}\")\n",
    "display(df.experiment_type.value_counts().reset_index())"
   ]
  },
  {
   "cell_type": "markdown",
   "id": "1813b8d7-872f-4916-bbcb-5c0b14a1f8a6",
   "metadata": {},
   "source": [
    "# $\\sigma$ changes"
   ]
  },
  {
   "cell_type": "code",
   "execution_count": null,
   "id": "e0ebd77c-0008-4230-915c-c0a45a1f17fe",
   "metadata": {},
   "outputs": [],
   "source": [
    "# experiment_types = ['optimal', 'sigma2', 'sigma3', 'fixed_w_hat']\n",
    "experiment_types = ['optimal', 'sigma2', 'sigma3', 'naive']\n",
    "# experiment_types = ['optimal', 'sigma2', 'sigma3']\n",
    "df_no_rescheduling = df[lambda x: x.experiment_type.isin(experiment_types)]\n",
    "# df_no_rescheduling = df_no_rescheduling[lambda x: x.trial == 1]  # remove if more trials necessary\n",
    "print(f\"Number of samples: {df_no_rescheduling.shape[0]:,}\")\n",
    "display(df_no_rescheduling.experiment_type.value_counts().reset_index())"
   ]
  },
  {
   "cell_type": "code",
   "execution_count": null,
   "id": "353caa84-ea1a-41cb-b098-18f712da965c",
   "metadata": {},
   "outputs": [],
   "source": [
    "label_translation = {\n",
    "    'naive': 'Naive',\n",
    "    'optimal': 'Optimal', \n",
    "    'sigma2': r'$\\sigma = 2$',\n",
    "    'sigma3': r'$\\sigma = 3$',\n",
    "}"
   ]
  },
  {
   "cell_type": "markdown",
   "id": "3f32bfd8-4b76-465a-a7f9-fe77fe35fb08",
   "metadata": {},
   "source": [
    "## Execution time"
   ]
  },
  {
   "cell_type": "code",
   "execution_count": null,
   "id": "19a186a4-f937-4415-b618-d7708ea3d822",
   "metadata": {},
   "outputs": [],
   "source": [
    "plt.figure(figsize=figsize, dpi=dpi)\n",
    "\n",
    "hue_order = ['optimal', 'sigma2', 'sigma3', 'naive']\n",
    "ax = sns.lineplot(data=df_no_rescheduling, x='voxel_size', y='execution_time', hue='experiment_type', hue_order=hue_order, marker='h')\n",
    "plt.xlabel(\"$N_w$\")\n",
    "plt.ylabel(\"Execution time (s)\")\n",
    "\n",
    "handles, labels = ax.get_legend_handles_labels()\n",
    "new_labels = [label_translation[i] for i in labels]\n",
    "plt.legend(handles, new_labels, bbox_to_anchor=(1.05, .5), borderaxespad=0, loc='center left')\n",
    "\n",
    "plt.savefig(\"../out/figures/optimal_computation_time/sigma.execution_time.line.pdf\", bbox_inches='tight')\n",
    "plt.show()"
   ]
  },
  {
   "cell_type": "code",
   "execution_count": null,
   "id": "449f909c-8b77-4c2d-be5c-93b94aebef6a",
   "metadata": {},
   "outputs": [],
   "source": [
    "plt.figure(figsize=figsize, dpi=dpi)\n",
    "\n",
    "hue_order = ['optimal', 'sigma2', 'sigma3', 'naive']\n",
    "sns.barplot(data=df_no_rescheduling, x='N_w', y='execution_time', hue='experiment_type', hue_order=hue_order, edgecolor='black', alpha=0.7)\n",
    "plt.xlabel(\"$N_w$\")\n",
    "plt.ylabel(\"Execution time (s)\")\n",
    "\n",
    "handles, labels = ax.get_legend_handles_labels()\n",
    "new_labels = [label_translation[i] for i in labels]\n",
    "plt.legend(handles, new_labels, bbox_to_anchor=(1.05, .5), borderaxespad=0, loc='center left')\n",
    "plt.grid(axis='y')\n",
    "\n",
    "plt.savefig(\"../out/figures/optimal_computation_time/sigma.execution_time.bar.pdf\", bbox_inches='tight')\n",
    "plt.show()"
   ]
  },
  {
   "cell_type": "markdown",
   "id": "947dd483-026e-44c3-b1dc-efad6ba11c6a",
   "metadata": {},
   "source": [
    "## Solve time"
   ]
  },
  {
   "cell_type": "code",
   "execution_count": null,
   "id": "8881afe3-d6e5-4001-a88c-1ad8ca41db13",
   "metadata": {},
   "outputs": [],
   "source": [
    "plt.figure(figsize=figsize, dpi=dpi)\n",
    "\n",
    "hue_order = ['optimal', 'sigma2', 'sigma3']\n",
    "ax = sns.lineplot(data=df_no_rescheduling, x='N_w', y='t_solve_total', hue='experiment_type', hue_order=hue_order, marker='h')\n",
    "plt.xlabel(\"$N_w$\")\n",
    "plt.ylabel(\"$t_{solve}$ [log]\")\n",
    "plt.yscale('log')\n",
    "\n",
    "handles, labels = ax.get_legend_handles_labels()\n",
    "new_labels = [label_translation[i] for i in labels]\n",
    "plt.legend(handles, new_labels, bbox_to_anchor=(1.05, .5), borderaxespad=0, loc='center left')\n",
    "\n",
    "plt.savefig(\"../out/figures/optimal_computation_time/sigma.t_solve_total.line.pdf\", bbox_inches='tight')\n",
    "plt.show()"
   ]
  },
  {
   "cell_type": "code",
   "execution_count": null,
   "id": "a2cce6d8-69d0-4a96-837c-89de23795f81",
   "metadata": {},
   "outputs": [],
   "source": [
    "plt.figure(figsize=figsize, dpi=dpi)\n",
    "\n",
    "hue_order = ['optimal', 'sigma2', 'sigma3']\n",
    "sns.barplot(data=df_no_rescheduling, x='N_w', y='t_solve_total', hue='experiment_type', hue_order=hue_order, edgecolor='black', alpha=0.7)\n",
    "plt.xlabel(\"$N_w$\")\n",
    "plt.ylabel(\"Scheduling time (s)\")\n",
    "plt.yscale('log')\n",
    "\n",
    "handles, labels = ax.get_legend_handles_labels()\n",
    "new_labels = [label_translation[i] for i in labels]\n",
    "plt.legend(handles, new_labels, bbox_to_anchor=(1.05, .5), borderaxespad=0, loc='center left')\n",
    "plt.grid(axis='y')\n",
    "\n",
    "plt.savefig(\"../out/figures/optimal_computation_time/sigma.t_solve_total.bar.pdf\", bbox_inches='tight')\n",
    "plt.show()"
   ]
  },
  {
   "cell_type": "markdown",
   "id": "077565d0-39e6-42c4-b3ee-39b4f973170d",
   "metadata": {},
   "source": [
    "# $\\hat{W}$ changes"
   ]
  },
  {
   "cell_type": "code",
   "execution_count": null,
   "id": "fad3bb62-5302-472c-86d7-18530157de3f",
   "metadata": {
    "tags": []
   },
   "outputs": [],
   "source": [
    "label_translation = {\n",
    "    'optimal': 'Optimal $(\\Sigma)$', \n",
    "    'fixed_w_hat_10': r'$\\hat{W} = 10$ $(\\Sigma)$',\n",
    "    'fixed_w_hat_15': r'$\\hat{W} = 15$ $(\\Sigma)$',\n",
    "    'fixed_w_hat_10_mean': r'$\\hat{W} = 10$ $(\\mu)$',\n",
    "    'fixed_w_hat_15_mean': r'$\\hat{W} = 15$ $(\\mu)$',\n",
    "}# Plot results of fixed W_hat"
   ]
  },
  {
   "cell_type": "code",
   "execution_count": null,
   "id": "ba009b7e-eee1-4bc8-a42a-8d67de3c663a",
   "metadata": {},
   "outputs": [],
   "source": [
    "experiment_types = ['optimal', 'fixed_w_hat_10', 'fixed_w_hat_15']\n",
    "df_fixed_W_hat = df[lambda x: x.experiment_type.isin(experiment_types)]\n",
    "# df_fixed_W_hat = df_fixed_W_hat[lambda x: x.trial == 1]  # remove if more trials necessary"
   ]
  },
  {
   "cell_type": "markdown",
   "id": "bf545f84-0c3d-4fdc-911f-92580b68a36d",
   "metadata": {},
   "source": [
    "## Execution time "
   ]
  },
  {
   "cell_type": "code",
   "execution_count": null,
   "id": "a05f0ba8-ef76-4d17-95a7-9709abc5eb9a",
   "metadata": {},
   "outputs": [],
   "source": [
    "label_translation = {\n",
    "    'optimal': 'Optimal', \n",
    "    'fixed_w_hat_10': r'$\\hat{N}_w = 10$',\n",
    "    'fixed_w_hat_15': r'$\\hat{N}_w = 15$',\n",
    "}"
   ]
  },
  {
   "cell_type": "code",
   "execution_count": null,
   "id": "4f24932e",
   "metadata": {
    "jupyter": {
     "outputs_hidden": false
    },
    "pycharm": {
     "name": "#%%\n"
    }
   },
   "outputs": [],
   "source": [
    "_, ax = plt.subplots(figsize=figsize, dpi=dpi)\n",
    "\n",
    "hue_order = ['optimal', 'fixed_w_hat_15', 'fixed_w_hat_10']\n",
    "sns.barplot(data=df_fixed_W_hat, x='N_w', y='execution_time', hue='experiment_type', hue_order=hue_order, edgecolor='black', alpha=0.7, ax=ax)\n",
    "\n",
    "plt.xlabel(\"$N_w$\")\n",
    "plt.ylabel(\"Execution time (s)\")\n",
    "\n",
    "handles, labels = ax.get_legend_handles_labels()\n",
    "new_labels = [label_translation[i] for i in labels]\n",
    "plt.legend(handles, new_labels, bbox_to_anchor=(1.05, .5), borderaxespad=0, loc='center left')\n",
    "\n",
    "plt.savefig(\"../out/figures/optimal_computation_time/N_w.execution_time.bar.pdf\", bbox_inches='tight')\n",
    "plt.show()"
   ]
  },
  {
   "cell_type": "markdown",
   "id": "57d5267f-e873-4679-8e73-e6abd50abb49",
   "metadata": {},
   "source": [
    "## Solve times"
   ]
  },
  {
   "cell_type": "code",
   "execution_count": null,
   "id": "b93540b2-37c1-41ae-8716-0a40a22e5d45",
   "metadata": {},
   "outputs": [],
   "source": [
    "label_translation = {\n",
    "    'optimal_total': 'Optimal', \n",
    "    'fixed_w_hat_10_total': r'$\\hat{N}_w = 10$ $(\\Sigma)$',\n",
    "    'fixed_w_hat_15_total': r'$\\hat{N}_w = 15$ $(\\Sigma)$',\n",
    "    'fixed_w_hat_10_mean': r'$\\hat{N}_w = 10$ $(\\mu)$',\n",
    "    'fixed_w_hat_15_mean': r'$\\hat{N}_w = 15$ $(\\mu)$',\n",
    "}\n",
    "hue_order = ['optimal_total', 'fixed_w_hat_15_total', 'fixed_w_hat_10_total', 'fixed_w_hat_15_mean', 'fixed_w_hat_10_mean']"
   ]
  },
  {
   "cell_type": "code",
   "execution_count": null,
   "id": "482ce11d-ce23-41d2-a9d5-4f93d6e9fa90",
   "metadata": {},
   "outputs": [],
   "source": [
    "df_plot_total = df_fixed_W_hat.rename(columns={'t_solve_total': 'y'})\n",
    "df_plot_total['experiment_type'] = df_plot_total['experiment_type'].astype(str) + \"_total\"\n",
    "df_plot_mean = df_fixed_W_hat[lambda x: x.experiment_type != 'optimal'].rename(columns={'t_solve_mean': 'y'})\n",
    "df_plot_mean['experiment_type'] = df_plot_mean['experiment_type'].astype(str) + \"_mean\"\n",
    "df_plot_both = pd.concat([df_plot_total, df_plot_mean])\n",
    "print(f\"Number of samples (sum):  {df_plot_total.shape[0]:,}\")\n",
    "print(f\"Number of samples (mean): {df_plot_mean.shape[0]:,}\")"
   ]
  },
  {
   "cell_type": "code",
   "execution_count": null,
   "id": "9a238059-8ed8-48dd-a2da-c85a8f86e92e",
   "metadata": {},
   "outputs": [],
   "source": [
    "_, ax = plt.subplots(figsize=figsize, dpi=dpi)\n",
    "\n",
    "cp = color_palette()\n",
    "palette = [cp[0], cp[1], cp[2], cp[1], cp[2]]\n",
    "sns.barplot(data=df_plot_both, x='N_w', y='y', hue='experiment_type', hue_order=hue_order, edgecolor='black', alpha=0.7, palette=palette, ax=ax)\n",
    "           \n",
    "plt.xlabel(\"$N_w$\")\n",
    "plt.ylabel(\"Scheduling time (s)\")\n",
    "plt.yscale('log')\n",
    "\n",
    "handles, labels = ax.get_legend_handles_labels()\n",
    "for i in [3, 4]:\n",
    "    handle = handles[i]\n",
    "    for rect in handle:\n",
    "        rect.set_linestyle(\"--\")\n",
    "new_labels = [label_translation[i] for i in labels]\n",
    "plt.legend(handles, new_labels, bbox_to_anchor=(1.05, .5), borderaxespad=0, loc='center left')\n",
    "plt.grid(axis='y')\n",
    "\n",
    "plt.savefig(\"../out/figures/optimal_computation_time/N_w.t_solve.bar.pdf\", bbox_inches='tight')\n",
    "plt.show()"
   ]
  },
  {
   "cell_type": "markdown",
   "id": "a8fbca89-2e3d-41f8-937d-98fe93ba14df",
   "metadata": {
    "tags": []
   },
   "source": [
    "# Combine experiments"
   ]
  },
  {
   "cell_type": "markdown",
   "id": "b3faa370-e7b2-40a6-aa3c-5d9a647caa87",
   "metadata": {
    "tags": []
   },
   "source": [
    "## Execution time"
   ]
  },
  {
   "cell_type": "code",
   "execution_count": null,
   "id": "4d539a69-b4d2-4ea3-8bd1-f2ea1ab3f352",
   "metadata": {},
   "outputs": [],
   "source": [
    "df_plot = df[lambda x: x.experiment_type.isin(['optimal', 'fixed_w_hat_15', 'sigma2', 'naive'])]"
   ]
  },
  {
   "cell_type": "code",
   "execution_count": null,
   "id": "b97aac59-fd66-44cf-8ea9-825b231e0eaf",
   "metadata": {},
   "outputs": [],
   "source": [
    "label_translation = {\n",
    "    'optimal': 'Optimal',\n",
    "    'fixed_w_hat_15': '$\\hat{N}_w = 15$',\n",
    "    'sigma2': '$\\sigma = 2$',\n",
    "    'naive': 'Naive',\n",
    "}"
   ]
  },
  {
   "cell_type": "code",
   "execution_count": null,
   "id": "7857296f-4d72-4ea1-a310-f2aeb87fb243",
   "metadata": {},
   "outputs": [],
   "source": [
    "_, ax = plt.subplots(figsize=figsize, dpi=dpi)\n",
    "\n",
    "hue_order = ['optimal', 'fixed_w_hat_15', 'sigma2', 'naive']\n",
    "sns.barplot(data=df_plot, x='N_w', y='execution_time', hue='experiment_type', hue_order=hue_order, edgecolor='black', alpha=0.7, ax=ax, ci=None)\n",
    "\n",
    "plt.xlabel(\"$N_w$\")\n",
    "plt.ylabel(\"Execution time (s)\")\n",
    "\n",
    "handles, labels = ax.get_legend_handles_labels()\n",
    "new_labels = [label_translation[i] for i in labels]\n",
    "# plt.legend(handles, new_labels, bbox_to_anchor=(1.05, .5), borderaxespad=0, loc='center left')\n",
    "plt.legend(handles, new_labels, frameon=True, edgecolor='white', framealpha=.9, fontsize=8)\n",
    "plt.grid(axis='y')\n",
    "\n",
    "plt.savefig(\"../out/figures/optimal_computation_time/combined.execution_time.bar.pdf\", bbox_inches='tight')\n",
    "plt.show()"
   ]
  },
  {
   "cell_type": "markdown",
   "id": "2997912d-1c9a-4b72-aa20-37d56c1904bd",
   "metadata": {},
   "source": [
    "## Solve times"
   ]
  },
  {
   "cell_type": "code",
   "execution_count": null,
   "id": "102830ce-0faa-46ed-9279-72e253e13d7b",
   "metadata": {},
   "outputs": [],
   "source": [
    "label_translation = {\n",
    "    'optimal_total': 'Optimal',\n",
    "    'fixed_w_hat_15_total': '$\\hat{N}_w = 15$ $(\\Sigma)$',\n",
    "    'fixed_w_hat_15_mean': '$\\hat{N}_w = 15$ $(\\mu)$',\n",
    "    'sigma2_total': '$\\sigma = 2$',\n",
    "    'naive_total': 'Naive',\n",
    "}"
   ]
  },
  {
   "cell_type": "code",
   "execution_count": null,
   "id": "43be7dff-e0e4-4e8a-be79-7f335f79cb8b",
   "metadata": {
    "tags": []
   },
   "outputs": [],
   "source": [
    "df_plot_total = df[lambda x: x.experiment_type.isin(['optimal', 'fixed_w_hat_15', 'sigma2', 'naive'])].copy()\n",
    "df_plot_mean = df[lambda x: x.experiment_type == 'fixed_w_hat_15'].copy()\n",
    "\n",
    "df_plot_total['y'] = df_plot_total.t_solve_total\n",
    "df_plot_total['experiment_type'] = df_plot_total['experiment_type'].astype(str) + \"_total\"\n",
    "df_plot_mean['y'] = df_plot_mean.t_solve_mean\n",
    "df_plot_mean['experiment_type'] = df_plot_mean['experiment_type'].astype(str) + \"_mean\"\n",
    "\n",
    "df_plot = pd.concat([df_plot_total, df_plot_mean])"
   ]
  },
  {
   "cell_type": "code",
   "execution_count": null,
   "id": "0eb1a0fe-10d3-439a-93f5-ec3ffe7c7a09",
   "metadata": {
    "tags": []
   },
   "outputs": [],
   "source": [
    "_, ax = plt.subplots(figsize=figsize, dpi=dpi)\n",
    "\n",
    "cp = color_palette()\n",
    "palette = [cp[0], cp[1], cp[1], cp[2], cp[3]]\n",
    "\n",
    "hue_order = ['optimal_total', 'fixed_w_hat_15_total', 'fixed_w_hat_15_mean', 'sigma2_total']\n",
    "sns.barplot(data=df_plot, x='N_w', y='y', hue='experiment_type', hue_order=hue_order, edgecolor='black', alpha=0.7, ax=ax, palette=palette, ci=\"sd\")\n",
    "ax.axhline(y=600, color='r', linestyle=\":\", zorder=-1)\n",
    "\n",
    "plt.xlabel(\"$N_w$\")\n",
    "plt.ylabel(\"Scheduling time (s)\")\n",
    "\n",
    "handles, labels = ax.get_legend_handles_labels()\n",
    "for rec in handles[2]:\n",
    "    rec.set_linestyle('--')\n",
    "    rec.set_hatch(\"/\" * 9)\n",
    "    rec.set_fill(None)\n",
    "    rec.set_linewidth(0)\n",
    "    rec.set_color(cp[1])    \n",
    "\n",
    "\n",
    "new_labels = [label_translation[i] for i in labels]\n",
    "\n",
    "# plt.legend(handles, new_labels, bbox_to_anchor=(1.05, .5), borderaxespad=0, loc='center left')\n",
    "plt.legend(handles, new_labels, frameon=True, edgecolor='white', framealpha=.9, fontsize=8)\n",
    "plt.grid(axis='y')\n",
    "plt.yscale('log')\n",
    "\n",
    "plt.savefig(\"../out/figures/optimal_computation_time/combined.t_solve.bar.pdf\", bbox_inches='tight')\n",
    "plt.show()"
   ]
  }
 ],
 "metadata": {
  "kernelspec": {
   "display_name": "Python 3 (ipykernel)",
   "language": "python",
   "name": "python3"
  },
  "language_info": {
   "codemirror_mode": {
    "name": "ipython",
    "version": 3
   },
   "file_extension": ".py",
   "mimetype": "text/x-python",
   "name": "python",
   "nbconvert_exporter": "python",
   "pygments_lexer": "ipython3",
   "version": "3.8.13"
  }
 },
 "nbformat": 4,
 "nbformat_minor": 5
}

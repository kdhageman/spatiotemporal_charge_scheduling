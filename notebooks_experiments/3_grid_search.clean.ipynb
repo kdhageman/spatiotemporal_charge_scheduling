{
 "cells": [
  {
   "cell_type": "code",
   "execution_count": null,
   "id": "5d8f2418-e9c9-475c-8f59-d83c59b84ccd",
   "metadata": {
    "pycharm": {
     "name": "#%%\n"
    }
   },
   "outputs": [],
   "source": [
    "%reload_ext autoreload\n",
    "%autoreload 2\n",
    "\n",
    "import os\n",
    "import json\n",
    "import pandas as pd\n",
    "import matplotlib.pyplot as plt\n",
    "import re\n",
    "import seaborn as sns\n",
    "from seaborn import color_palette\n",
    "import numpy as np\n",
    "from util import load_results_from_dir\n",
    "\n",
    "# sns.set_palette('rocket_r')\n",
    "# sns.set_palette('hls')\n",
    "# colors = [\"#5B656F\", \"#A1B5D8\", \"#EDCB96\", \"#DB5461\", \"#171738\", \"#6C783B\"]\n",
    "# colors = [\"#fd7f6f\", \"#7eb0d5\", \"#b2e061\", \"#bd7ebe\", \"#ffb55a\", \"#ffee65\", \"#beb9db\", \"#fdcce5\", \"#8bd3c7\"]\n",
    "# colors = [\"#ffb3b8\", \"#fa4d56\", \"#9f1853\", \"#1192e8\", \"#009d9a\", \"#005d5d\"]\n",
    "colors = [\"#f77e84\", \"#9f1853\", \"#1192e8\", \"#009d9a\", \"#012749\", \"#ACACAC\"]\n",
    "sns.set_palette(sns.color_palette(colors))\n",
    "\n",
    "plt.rcParams.update(\n",
    "    {\n",
    "        \"text.usetex\": True,\n",
    "        \"font.family\": \"serif\",\n",
    "        # \"font.serif\": [\"Computer Modern Roman\", \"Times New Roman\"] + plt.rcParams[\"font.serif\"],\n",
    "        \"text.latex.preamble\": r\"\\usepackage[T1]{fontenc} \\usepackage[utf8]{inputenc} \\usepackage{lmodern}\",\n",
    "    }\n",
    ")\n",
    "figsize=np.array((3,1.6)) * 0.9\n",
    "dpi = 120\n",
    "parameters = ['scheduler', 'N_w', 'N_d', 'N_s', 'W_hat', 'pi', 'sigma', 'anchor_count', 'epsilon', 'int_feas_tol', 'v', 'r_charge', 'r_deplete', 'B_min', 'B_max', 'B_start', 'trial']"
   ]
  },
  {
   "cell_type": "code",
   "execution_count": null,
   "id": "e7533060-415f-4df1-89ea-1ffa39d85762",
   "metadata": {
    "pycharm": {
     "name": "#%%\n"
    }
   },
   "outputs": [],
   "source": [
    "rootdir = \"../out/villalvernia.elrond/grid_search\"\n",
    "df = load_results_from_dir(rootdir)\n",
    "df = df[lambda x: (x.scheduler == 'naivescheduler') | (x.pi.isin([np.inf, 61, 46, 31, 16, 8]))]\n",
    "df['t_solve_mean_after_first'] = df.apply(lambda x: np.mean(x.solve_times[1:]), axis=1)\n",
    "df['t_solve_std_after_first'] = df.apply(lambda x: np.std(x.solve_times[1:]), axis=1)\n",
    "df = df[lambda x: x.trial == 1]\n",
    "df = df.sort_values('experiment_timestamp', ascending=False).drop_duplicates(parameters)"
   ]
  },
  {
   "cell_type": "code",
   "execution_count": null,
   "id": "3e721c73-e77c-4148-ada6-009f8ef6db85",
   "metadata": {
    "pycharm": {
     "name": "#%%\n"
    },
    "tags": []
   },
   "outputs": [],
   "source": [
    "print(f\"Size of dataset: {df.shape[0]:,}\\n\")\n",
    "df.sort_values(by='experiment_timestamp')[parameters + ['execution_time', 't_solve_mean', 't_solve_total', 'n_solves']]"
   ]
  },
  {
   "cell_type": "code",
   "execution_count": null,
   "id": "e80b76b5-6b5c-49dd-9a0f-49f56fd9d30d",
   "metadata": {},
   "outputs": [],
   "source": [
    "naive_execution_time = df[lambda x: x.scheduler == 'naivescheduler'].iloc[0].execution_time"
   ]
  },
  {
   "cell_type": "markdown",
   "id": "0356746c-3eb5-43d1-8d3a-00c9d378650a",
   "metadata": {
    "pycharm": {
     "name": "#%% md\n"
    }
   },
   "source": [
    "# Plots"
   ]
  },
  {
   "cell_type": "code",
   "execution_count": null,
   "id": "a5d293f7-1d8f-49c2-bcb9-a4dd179cb7b7",
   "metadata": {},
   "outputs": [],
   "source": [
    "label_translation = {\n",
    "    'inf': '$\\infty$',\n",
    "    '8.0': '8',\n",
    "    '16.0': '16',\n",
    "    '31.0': '31', \n",
    "    '46.0': '46',\n",
    "    '61.0': '61',\n",
    "}"
   ]
  },
  {
   "cell_type": "markdown",
   "id": "4927d240-b859-403b-b4fc-965385d641fd",
   "metadata": {
    "pycharm": {
     "name": "#%% md\n"
    }
   },
   "source": [
    "## Execution time"
   ]
  },
  {
   "cell_type": "code",
   "execution_count": null,
   "id": "9c152059-8c9b-4780-8dc0-c05e07d97a06",
   "metadata": {
    "pycharm": {
     "name": "#%%\n"
    }
   },
   "outputs": [],
   "source": [
    "cp = color_palette()\n",
    "ymax = df.execution_time.max() * 1.025\n",
    "ymin = 3500 # ymin = df.execution_time.min() * 0.7\n",
    "order = sorted(df[lambda x: x.scheduler != 'naivescheduler'].W_hat.unique())\n",
    "hue_order = sorted(df[lambda x: x.scheduler != 'naivescheduler'].pi.unique())\n",
    "\n",
    "for i, sigma in enumerate(sorted(set(df.sigma.unique()) - {0})):\n",
    "    df_plot = df[lambda x: (x.sigma == sigma) & (x.scheduler != \"naivescheduler\")]\n",
    "\n",
    "    _, ax = plt.subplots(figsize=figsize, dpi=dpi)\n",
    "    sns.barplot(data=df_plot, x='W_hat', y='execution_time', hue='pi', edgecolor='black', alpha=0.7, order=order, hue_order=hue_order, ax=ax, palette=cp)\n",
    "    \n",
    "    handles, labels = ax.get_legend_handles_labels()\n",
    "    new_labels = [label_translation[i] for i in labels]\n",
    "    leg = ax.legend(handles, new_labels, title=\"$\\pi$\", loc='lower right', edgecolor='white', framealpha=1, borderpad=0, ncol=2)\n",
    "    ax.axhline(y=naive_execution_time, color='red', linestyle=':')\n",
    "    if i == 0:\n",
    "        plt.ylabel(\"Execution time (s)\")\n",
    "    else:\n",
    "        plt.ylabel(\"\")\n",
    "        leg.remove()\n",
    "    plt.xlabel(\"$\\hat{N}_w$\")\n",
    "    plt.grid(axis='y')\n",
    "    plt.ylim([ymin, ymax])\n",
    "    # plt.title(f\"$\\sigma = {sigma}$\")\n",
    "        \n",
    "    plt.savefig(f\"../out/figures/grid_search/sigma{sigma}.execution_time.bar.pdf\", bbox_inches='tight', pad_inches=0.02)\n",
    "    plt.show()"
   ]
  },
  {
   "cell_type": "code",
   "execution_count": null,
   "id": "886a2475-1cd7-4261-bd91-b761c3e5cb54",
   "metadata": {},
   "outputs": [],
   "source": [
    "min_execution_time = df[lambda x: x.scheduler == 'milpscheduler'].execution_time.min()\n",
    "max_execution_time = df[lambda x: x.scheduler == 'milpscheduler'].execution_time.max()\n",
    "min_execution_time_rel = (min_execution_time / naive_execution_time * 100) - 100\n",
    "max_execution_time_rel = (max_execution_time / naive_execution_time * 100) - 100\n",
    "\n",
    "print(f\"Minimum execution time: {min_execution_time:.1f}s\")\n",
    "print(f\"Maximum execution time: {max_execution_time:.1f}s\")\n",
    "\n",
    "print(f\"Minimum relative: {min_execution_time_rel:.1f}%\")\n",
    "print(f\"Maximum relative: {max_execution_time_rel:.1f}%\")"
   ]
  },
  {
   "cell_type": "code",
   "execution_count": null,
   "id": "577e61f5-c923-410e-9ad3-abc600cf5f23",
   "metadata": {},
   "outputs": [],
   "source": [
    "print(\"Best performing combination of parameters:\")\n",
    "display(df[lambda x: x.scheduler == 'milpscheduler'].sort_values('execution_time').iloc[0][['W_hat', 'sigma', 'pi']].reset_index())"
   ]
  },
  {
   "cell_type": "markdown",
   "id": "89de26e3-bacd-4ae1-af52-6089ea8b73d6",
   "metadata": {
    "pycharm": {
     "name": "#%% md\n"
    },
    "tags": []
   },
   "source": [
    "## Scheduling time"
   ]
  },
  {
   "cell_type": "markdown",
   "id": "b3f72b08-70f2-4a6a-81de-183a120ec56c",
   "metadata": {
    "pycharm": {
     "name": "#%% md\n"
    }
   },
   "source": [
    "### Total"
   ]
  },
  {
   "cell_type": "code",
   "execution_count": null,
   "id": "6235595f-1c39-402f-9436-b81ae82afb4a",
   "metadata": {
    "pycharm": {
     "name": "#%%\n"
    }
   },
   "outputs": [],
   "source": [
    "cp = color_palette()\n",
    "ymax = df.t_solve_total.max() * 2\n",
    "ymin = df.t_solve_total[lambda x: x>0].min() / 1.1\n",
    "order = sorted(df[lambda x: x.scheduler != 'naivescheduler'].W_hat.unique())\n",
    "hue_order = sorted(df[lambda x: x.scheduler != 'naivescheduler'].pi.unique())\n",
    "\n",
    "for i, sigma in enumerate(sorted(set(df.sigma.unique()) - {0})):\n",
    "    df_plot = df[lambda x: (x.sigma == sigma) & (x.scheduler != \"naivescheduler\")]\n",
    "\n",
    "    _, ax = plt.subplots(figsize=figsize, dpi=dpi)\n",
    "    sns.barplot(data=df_plot, x='W_hat', y='t_solve_total', hue='pi', edgecolor='black', alpha=0.7, order=order, hue_order=hue_order, ax=ax, palette=cp)\n",
    "\n",
    "    handles, labels = ax.get_legend_handles_labels()\n",
    "    new_labels = [label_translation[i] for i in labels]\n",
    "    leg = ax.legend(handles, new_labels, title=\"$\\pi$\", loc='lower right', edgecolor='white', framealpha=1, borderpad=0, ncol=2)\n",
    "    if i == 0:\n",
    "        plt.ylabel(\"Total scheduling\\ntime (s)\")\n",
    "    else:\n",
    "        plt.ylabel(\"\")\n",
    "        leg.remove()\n",
    "    plt.xlabel(\"$\\hat{N}_w$\")\n",
    "    plt.grid(axis='y')\n",
    "    plt.yscale('log')\n",
    "    ax.set_ylim([ymin, ymax])\n",
    "    # plt.title(f\"$\\sigma = {sigma}$\")\n",
    "    \n",
    "    plt.savefig(f\"../out/figures/grid_search/sigma{sigma}.scheduling_time_total.bar.pdf\", bbox_inches='tight', pad_inches=0.02)\n",
    "    plt.show()"
   ]
  },
  {
   "cell_type": "markdown",
   "id": "e531c672-9460-4906-bc23-8fa153d34caf",
   "metadata": {
    "pycharm": {
     "name": "#%% md\n"
    }
   },
   "source": [
    "### Average"
   ]
  },
  {
   "cell_type": "code",
   "execution_count": null,
   "id": "9e401944-273b-4550-9b31-6b320fd6a851",
   "metadata": {
    "pycharm": {
     "name": "#%%\n"
    }
   },
   "outputs": [],
   "source": [
    "cp = color_palette()\n",
    "ymax = df.t_solve_mean.max() * 2\n",
    "ymin = df.t_solve_mean[lambda x: x>0].min() / 1.1\n",
    "order = sorted(df[lambda x: x.scheduler != 'naivescheduler'].W_hat.unique())\n",
    "hue_order = sorted(df[lambda x: x.scheduler != 'naivescheduler'].pi.unique())\n",
    "\n",
    "for i, sigma in enumerate(sorted(set(df.sigma.unique()) - {0})):\n",
    "    print(sigma)\n",
    "    df_plot = df[lambda x: (x.sigma == sigma) & (x.scheduler != \"naivescheduler\")]\n",
    "\n",
    "    _, ax = plt.subplots(figsize=figsize, dpi=dpi)\n",
    "    sns.barplot(data=df_plot, x='W_hat', y='t_solve_mean', hue='pi', edgecolor='black', alpha=0.7, order=order, hue_order=hue_order, ax=ax, palette=cp)\n",
    "\n",
    "    handles, labels = ax.get_legend_handles_labels()\n",
    "    new_labels = [label_translation[i] for i in labels]\n",
    "    leg = ax.legend(handles, new_labels, title=\"$\\pi$\", loc='lower right', edgecolor='white', framealpha=1, borderpad=0, ncol=2)\n",
    "    if i == 0:\n",
    "        plt.ylabel(\"Mean scheduling\\ntime (s)\")\n",
    "    else:\n",
    "        plt.ylabel(\"\")\n",
    "        leg.remove()\n",
    "    \n",
    "    plt.xlabel(\"$\\hat{N}_w$\")\n",
    "    plt.grid(axis='y')\n",
    "    ax.set_yscale('log')\n",
    "    ax.set_ylim([ymin, ymax])\n",
    "    # plt.title(f\"$\\sigma = {sigma}$\")\n",
    "    \n",
    "    plt.savefig(f\"../out/figures/grid_search/sigma{sigma}.scheduling_time_mean.bar.pdf\", bbox_inches='tight', pad_inches=0.02)\n",
    "    plt.show()"
   ]
  },
  {
   "cell_type": "markdown",
   "id": "5b7b982b-df60-49fe-82e0-6617e6fc88a1",
   "metadata": {},
   "source": [
    "# Table format"
   ]
  },
  {
   "cell_type": "code",
   "execution_count": null,
   "id": "a1e222ed-b829-4b4c-94cc-c452f13fd4ce",
   "metadata": {},
   "outputs": [],
   "source": [
    "def formatter(x):    \n",
    "    suffix = \"}\"\n",
    "    if x > 0:\n",
    "        # red\n",
    "        prefix = r\"\\rednr{\"\n",
    "    else:\n",
    "        # green\n",
    "        prefix = r\"\\greennr{\"\n",
    "    return prefix + f\"{x:.1f}\" + suffix"
   ]
  },
  {
   "cell_type": "code",
   "execution_count": null,
   "id": "51d70d03-2967-4d93-af37-995fb3e602d6",
   "metadata": {},
   "outputs": [],
   "source": [
    "W_hats = df[lambda x: x.scheduler == 'milpscheduler'].W_hat.unique()\n",
    "pis = df[lambda x: x.scheduler == 'milpscheduler'].pi.unique()"
   ]
  },
  {
   "cell_type": "markdown",
   "id": "3738fe22-c45f-40ca-8aa0-a47134ec508c",
   "metadata": {},
   "source": [
    "## Execution time"
   ]
  },
  {
   "cell_type": "code",
   "execution_count": null,
   "id": "e9ca8507-610a-4244-924b-d77d4802c504",
   "metadata": {},
   "outputs": [],
   "source": [
    "min_execution_time = df[lambda x: x.scheduler == 'milpscheduler'].execution_time.min()"
   ]
  },
  {
   "cell_type": "code",
   "execution_count": null,
   "id": "c74408f9-98a5-44ab-ba54-7480f53f0eaf",
   "metadata": {},
   "outputs": [],
   "source": [
    "df_plots = []\n",
    "\n",
    "for sigma in [1, 2, 3, 4]:\n",
    "    df_plot = df[lambda x: (x.sigma == sigma) & (x.scheduler != 'naivescheduler')].pivot('pi', 'W_hat', 'execution_time') / min_execution_time * 100 - 100\n",
    "    df_plot = df_plot.reindex(pis, axis=0)\n",
    "    display(df_plot)\n",
    "    df_plots.append(df_plot)    \n",
    "df_execution_time = pd.concat(df_plots, axis=1)\n",
    "print(df_execution_time.to_latex(na_rep=\"\", formatters=[formatter] * len(df_execution_time.columns), escape=False, index_names=False))"
   ]
  },
  {
   "cell_type": "markdown",
   "id": "15c98ba2-bb65-4e0f-8a4e-642f074f3866",
   "metadata": {},
   "source": [
    "## Scheduling time"
   ]
  },
  {
   "cell_type": "markdown",
   "id": "829a9a46-4d8e-4b53-9d3c-8e67bced1b83",
   "metadata": {},
   "source": [
    "### Total"
   ]
  },
  {
   "cell_type": "code",
   "execution_count": null,
   "id": "9fb29542-f014-4d51-a34f-9aa77e9bb069",
   "metadata": {},
   "outputs": [],
   "source": [
    "df_plots = []\n",
    "\n",
    "for sigma in [1, 2, 3, 4]:\n",
    "    df_plot = df[lambda x: (x.sigma == sigma) & (x.scheduler != 'naivescheduler')].pivot('pi', 'W_hat', 't_solve_total')\n",
    "    df_plot = df_plot.reindex(pis, axis=0)\n",
    "    display(df_plot)\n",
    "    df_plots.append(df_plot)    \n",
    "df_scheduling_time_total = pd.concat(df_plots, axis=1)\n",
    "print(df_scheduling_time_total.to_latex(na_rep=\"\", float_format=\"%.0f\", escape=False, index_names=False))"
   ]
  },
  {
   "cell_type": "markdown",
   "id": "328ae7ac-0090-430c-950a-6dd13406fe19",
   "metadata": {},
   "source": [
    "### Average rescheduling time"
   ]
  },
  {
   "cell_type": "code",
   "execution_count": null,
   "id": "9fdf6dc8-778d-4b1a-af8e-b27197d4ecbd",
   "metadata": {},
   "outputs": [],
   "source": [
    "df_plots = []\n",
    "\n",
    "for sigma in [1, 2, 3, 4]:\n",
    "    df_plot = df[lambda x: (x.sigma == sigma) & (x.scheduler != 'naivescheduler')].pivot('pi', 'W_hat', 't_solve_mean_after_first')\n",
    "    df_plot = df_plot.reindex(pis, axis=0)\n",
    "    df_plots.append(df_plot) \n",
    "df_scheduling_time_mean_after_first = pd.concat(df_plots, axis=1)\n",
    "print(df_scheduling_time_mean_after_first.to_latex(na_rep=\"\", float_format=\"%.0f\", escape=False, index_names=False))"
   ]
  },
  {
   "cell_type": "markdown",
   "id": "c3da8cc8-93f5-4fb1-8aa1-f1d9d1574e78",
   "metadata": {},
   "source": [
    "## Single table"
   ]
  },
  {
   "cell_type": "code",
   "execution_count": null,
   "id": "063b6a59-8268-4c93-9559-e194dd849d73",
   "metadata": {},
   "outputs": [],
   "source": [
    "df_table_final = pd.concat([df_execution_time, df_scheduling_time_total, df_scheduling_time_mean_after_first])"
   ]
  },
  {
   "cell_type": "code",
   "execution_count": null,
   "id": "4b69496b-7bb3-4136-af28-cd5f466a13e4",
   "metadata": {},
   "outputs": [],
   "source": [
    "print(df_table_final.to_latex(na_rep=\"\", float_format=\"%.1f\", escape=False))"
   ]
  },
  {
   "cell_type": "code",
   "execution_count": null,
   "id": "7f065e65-e772-4261-904f-8c188ff1a128",
   "metadata": {},
   "outputs": [],
   "source": [
    "display(df_table_final.round(4))"
   ]
  },
  {
   "cell_type": "markdown",
   "id": "22fbef6a-7f23-4fcf-8276-45c9f17cf5e1",
   "metadata": {},
   "source": [
    "## Min and max values"
   ]
  },
  {
   "cell_type": "code",
   "execution_count": null,
   "id": "050562d8-e3ef-4028-9ffc-4d27b99481d1",
   "metadata": {},
   "outputs": [],
   "source": [
    "# execution time\n",
    "vals = [v for v in df_execution_time.values.reshape(-1) if not np.isnan(v)]\n",
    "best_vals = sorted(vals)[:3]\n",
    "worst_vals = sorted(vals, reverse=True)[:3]\n",
    "print(\"Best vals:  \" + str([f\"{v:.1f}\" for v in best_vals]))\n",
    "print(\"Worst vals: \" + str([f\"{v:.1f}\" for v in worst_vals]))"
   ]
  },
  {
   "cell_type": "code",
   "execution_count": null,
   "id": "95d947fa-661e-4f8a-8c0c-c921ef575609",
   "metadata": {},
   "outputs": [],
   "source": [
    "# scheduling time (total)\n",
    "vals = [v for v in df_scheduling_time_total.values.reshape(-1) if not np.isnan(v)]\n",
    "best_vals = sorted(vals)[:3]\n",
    "worst_vals = sorted(vals, reverse=True)[:3]\n",
    "print(\"Best vals:  \" + str([f\"{v:.1f}\" for v in best_vals]))\n",
    "print(\"Worst vals: \" + str([f\"{v:.1f}\" for v in worst_vals]))"
   ]
  },
  {
   "cell_type": "code",
   "execution_count": null,
   "id": "bf950701-421a-4976-9342-ae4b5306804e",
   "metadata": {},
   "outputs": [],
   "source": [
    "# scheduling time (mean)\n",
    "vals = [v for v in df_scheduling_time_mean_after_first.values.reshape(-1) if not np.isnan(v)]\n",
    "best_vals = sorted(vals)[:3]\n",
    "worst_vals = sorted(vals, reverse=True)[:3]\n",
    "print(\"Best vals:  \" + str([f\"{v:.1f}\" for v in best_vals]))\n",
    "print(\"Worst vals: \" + str([f\"{v:.1f}\" for v in worst_vals]))"
   ]
  },
  {
   "cell_type": "markdown",
   "id": "329a246e-7675-4903-8c49-4658073c69a4",
   "metadata": {},
   "source": [
    "# Scratch"
   ]
  }
 ],
 "metadata": {
  "kernelspec": {
   "display_name": "Python 3 (ipykernel)",
   "language": "python",
   "name": "python3"
  },
  "language_info": {
   "codemirror_mode": {
    "name": "ipython",
    "version": 3
   },
   "file_extension": ".py",
   "mimetype": "text/x-python",
   "name": "python",
   "nbconvert_exporter": "python",
   "pygments_lexer": "ipython3",
   "version": "3.10.9"
  }
 },
 "nbformat": 4,
 "nbformat_minor": 5
}

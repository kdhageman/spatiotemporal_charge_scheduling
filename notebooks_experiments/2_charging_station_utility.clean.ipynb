{
 "cells": [
  {
   "cell_type": "code",
   "execution_count": null,
   "id": "064fb819-7c7a-4eae-a5a6-c8cc93e3684f",
   "metadata": {},
   "outputs": [],
   "source": [
    "%reload_ext autoreload\n",
    "%autoreload 2\n",
    "\n",
    "import os\n",
    "import json\n",
    "import pandas as pd\n",
    "import matplotlib.pyplot as plt\n",
    "import re\n",
    "import seaborn as sns\n",
    "from seaborn import color_palette\n",
    "import numpy as np\n",
    "from util import load_results_from_dir\n",
    "\n",
    "sns.set_palette('Set1')\n",
    "plt.rcParams.update(\n",
    "    {\n",
    "        \"text.usetex\": True,\n",
    "        \"font.family\": \"serif\",\n",
    "        # \"font.serif\": [\"Computer Modern Roman\", \"Times New Roman\"] + plt.rcParams[\"font.serif\"],\n",
    "        \"text.latex.preamble\": r\"\\usepackage[T1]{fontenc} \\usepackage[utf8]{inputenc} \\usepackage{lmodern}\",\n",
    "    }\n",
    ")\n",
    "figsize=(4,2)\n",
    "dpi = 120\n",
    "parameters = ['scheduler', 'N_w', 'N_d', 'N_s', 'W_hat', 'pi', 'sigma', 'epsilon', 'int_feas_tol', 'v', 'r_charge', 'r_deplete', 'B_min', 'B_max', 'B_start']"
   ]
  },
  {
   "cell_type": "code",
   "execution_count": null,
   "id": "e16fef07-100f-4ce7-ab68-1e9ad64c1f60",
   "metadata": {},
   "outputs": [],
   "source": [
    "rootdir = \"../out/villalvernia.elrond/charging_station_utility\"\n",
    "df = load_results_from_dir(rootdir)\n",
    "df['experiment_type'] = None\n",
    "df.loc[(df.scheduler == 'naivescheduler') & (df.N_w == 17), 'experiment_type'] = 'naive_coarse'\n",
    "df.loc[(df.scheduler == 'naivescheduler') & (df.N_w == 74), 'experiment_type'] = 'naive_fine'\n",
    "df.loc[(df.scheduler == 'milpscheduler') & (df.N_w == 17), 'experiment_type'] = 'milp_coarse'\n",
    "df.loc[(df.scheduler == 'milpscheduler') & (df.N_w == 74), 'experiment_type'] = 'milp_fine'\n",
    "\n",
    "# filter prior results that are not relevant\n",
    "df = df.dropna(subset=['experiment_type'])\n",
    "\n",
    "# add extra columns\n",
    "df['charge_ratio'] = np.round(df.r_deplete / df.r_charge, 1)\n",
    "df = df.drop_duplicates(['charge_ratio', 'experiment_type', 'N_w', 'N_s'])"
   ]
  },
  {
   "cell_type": "code",
   "execution_count": null,
   "id": "a835e419-5fe2-4c3b-9807-2fc13f3bc65a",
   "metadata": {},
   "outputs": [],
   "source": [
    "print(f\"Size of dataset: {df.shape[0]:,}\\n\")\n",
    "display(df[['experiment_type', 'N_w', 'N_s']].value_counts().reset_index().rename(columns={0: '# datapoints'}))"
   ]
  },
  {
   "cell_type": "markdown",
   "id": "18d6c4d1-a9d4-4793-895c-dc1f826db4cc",
   "metadata": {},
   "source": [
    "# Coarse"
   ]
  },
  {
   "cell_type": "code",
   "execution_count": null,
   "id": "5e178abd-0469-4d9a-8f0e-6015ba9bb170",
   "metadata": {},
   "outputs": [],
   "source": [
    "df_coarse = df[lambda x: x.experiment_type.isin(['milp_coarse', 'naive_coarse'])]"
   ]
  },
  {
   "cell_type": "code",
   "execution_count": null,
   "id": "714ff136-7310-4bd4-b33d-9c16ea81b898",
   "metadata": {},
   "outputs": [],
   "source": [
    "label_translation = {\n",
    "    'milp_coarse': 'Optimal',\n",
    "    'naive_coarse': 'Naive',\n",
    "}"
   ]
  },
  {
   "cell_type": "code",
   "execution_count": null,
   "id": "f947628e-971a-4f06-bba2-b0af00aeabde",
   "metadata": {
    "tags": []
   },
   "outputs": [],
   "source": [
    "ymax = df_coarse.execution_time.max() + 100\n",
    "\n",
    "for i, N_s in enumerate([1, 2, 3]):\n",
    "    _, ax = plt.subplots(figsize=figsize, dpi=dpi)\n",
    "    \n",
    "    hue_order = ['milp_coarse', 'naive_coarse']\n",
    "    sns.barplot(data=df_coarse[lambda x: x.N_s == N_s], x='charge_ratio', y='execution_time', hue='experiment_type', hue_order=hue_order, edgecolor='black', alpha=0.7, ax=ax)\n",
    "\n",
    "    handles, labels = ax.get_legend_handles_labels()\n",
    "    new_labels = [label_translation[i] for i in labels]\n",
    "    leg = ax.legend(handles, new_labels, frameon=False)\n",
    "    if i != 0:\n",
    "        leg.remove()\n",
    "\n",
    "    ax.set_xlabel(\"Charge ratio \" + r\"$(r^{-} / r^{+})$\")\n",
    "    ax.set_ylabel(\"Execution time (s)\")\n",
    "    ax.set_ylim([0, ymax])\n",
    "    plt.grid(axis='y')\n",
    "\n",
    "    plt.savefig(f\"../out/figures/charging_station_utility/N_s{N_s}.execution_time.coarse.bar.pdf\", bbox_inches='tight')\n",
    "    plt.show()"
   ]
  },
  {
   "cell_type": "code",
   "execution_count": null,
   "id": "15ae941f-d204-4fc2-b88a-657474a87377",
   "metadata": {},
   "outputs": [],
   "source": [
    "for i, N_s in enumerate([1, 2, 3]):\n",
    "    _, ax = plt.subplots(figsize=figsize, dpi=dpi)\n",
    "    \n",
    "    hue_order = ['milp_coarse', 'naive_coarse']\n",
    "    sns.barplot(data=df_coarse[lambda x: x.N_s == N_s], x='charge_ratio', y='utilization', hue='experiment_type', hue_order=hue_order, edgecolor='black', alpha=0.7, ax=ax)\n",
    "\n",
    "    handles, labels = ax.get_legend_handles_labels()\n",
    "    new_labels = [label_translation[i] for i in labels]\n",
    "    leg = ax.legend(handles, new_labels, frameon=False)\n",
    "    if i != 0:\n",
    "        leg.remove()\n",
    "\n",
    "\n",
    "    ax.set_xlabel(\"Charge ratio \" + r\"$(r^{-} / r^{+})$\")\n",
    "    ax.set_ylabel(\"Utilization\")\n",
    "    plt.grid(axis='y')\n",
    "    plt.ylim([0, 1])\n",
    "\n",
    "    plt.savefig(f\"../out/figures/charging_station_utility/N_s{N_s}.utilization.coarse.bar.pdf\", bbox_inches='tight')\n",
    "    plt.show()"
   ]
  },
  {
   "cell_type": "code",
   "execution_count": null,
   "id": "04b70f80-9d91-4708-af4e-28d0f20ac52e",
   "metadata": {},
   "outputs": [],
   "source": [
    "for i, N_s in enumerate([1, 2, 3]):\n",
    "    _, ax = plt.subplots(figsize=figsize, dpi=dpi)\n",
    "    \n",
    "    hue_order = ['milp_coarse', 'naive_coarse']\n",
    "    sns.barplot(data=df_coarse[lambda x: x.N_s == N_s], x='charge_ratio', y='frac_waited', hue='experiment_type', hue_order=hue_order, edgecolor='black', alpha=0.7, ax=ax)\n",
    "\n",
    "    handles, labels = ax.get_legend_handles_labels()\n",
    "    new_labels = [label_translation[i] for i in labels]\n",
    "    leg = ax.legend(handles, new_labels, frameon=False)\n",
    "    if i != 0:\n",
    "        leg.remove()\n",
    "\n",
    "\n",
    "    ax.set_xlabel(\"Charge ratio \" + r\"$(r^{-} / r^{+})$\")\n",
    "    ax.set_ylabel(\"Fraction of time\\nspent waiting\")\n",
    "    plt.grid(axis='y')\n",
    "    plt.ylim([0, 1])\n",
    "\n",
    "    plt.savefig(f\"../out/figures/charging_station_utility/N_s{N_s}.frac_waited.coarse.bar.pdf\", bbox_inches='tight')\n",
    "    plt.show()"
   ]
  },
  {
   "cell_type": "markdown",
   "id": "c5d2d986-3980-47e3-8a9c-f3188ffa3e4b",
   "metadata": {},
   "source": [
    "# Fine-grained"
   ]
  },
  {
   "cell_type": "code",
   "execution_count": null,
   "id": "f8030b01-d834-42e9-b7b0-54b77c3a2ee4",
   "metadata": {},
   "outputs": [],
   "source": [
    "df_fine = df[lambda x: x.experiment_type.isin(['milp_fine', 'naive_fine'])]"
   ]
  },
  {
   "cell_type": "code",
   "execution_count": null,
   "id": "646fbc83-d0da-4047-8738-bf5eaba198a0",
   "metadata": {},
   "outputs": [],
   "source": [
    "label_translation = {\n",
    "    'milp_fine': '$\\sigma=8$',\n",
    "    'naive_fine': 'Naive',\n",
    "}"
   ]
  },
  {
   "cell_type": "code",
   "execution_count": null,
   "id": "c10077d2-028a-43f2-a02e-f77b097fb17c",
   "metadata": {},
   "outputs": [],
   "source": [
    "cp = color_palette()\n",
    "palette = [cp[2], cp[1]]\n",
    "\n",
    "ymax = df_fine.execution_time.max() + 300\n",
    "\n",
    "for i, N_s in enumerate([1, 2, 3]):\n",
    "    _, ax = plt.subplots(figsize=figsize, dpi=dpi)\n",
    "\n",
    "    hue_order = ['milp_fine', 'naive_fine']\n",
    "    sns.barplot(data=df_fine[lambda x: x.N_s == N_s], x='charge_ratio', y='execution_time', hue='experiment_type', hue_order=hue_order, edgecolor='black', alpha=0.7, ax=ax, palette=palette)\n",
    "\n",
    "    handles, labels = ax.get_legend_handles_labels()\n",
    "    new_labels = [label_translation[i] for i in labels]\n",
    "    leg = ax.legend(handles, new_labels, frameon=False)\n",
    "    if i != 0:\n",
    "        leg.remove()\n",
    "\n",
    "    ax.set_xlabel(\"Charge ratio \" + r\"$(r^{-} / r^{+})$\")\n",
    "    ax.set_ylabel(\"Execution time (s)\")\n",
    "    ax.set_ylim([0, ymax])\n",
    "    plt.grid(axis='y')\n",
    "\n",
    "    plt.savefig(f\"../out/figures/charging_station_utility/N_s{N_s}.execution_time.fine.bar.pdf\", bbox_inches='tight')\n",
    "    plt.show()"
   ]
  },
  {
   "cell_type": "code",
   "execution_count": null,
   "id": "7f812d7c-8e76-4d98-bb6a-b61b82a501fb",
   "metadata": {},
   "outputs": [],
   "source": [
    "cp = color_palette()\n",
    "palette = [cp[2], cp[1]]\n",
    "\n",
    "ymax = df_fine.execution_time.max() + 100\n",
    "\n",
    "for i, N_s in enumerate([1, 2, 3]):\n",
    "    _, ax = plt.subplots(figsize=figsize, dpi=dpi)\n",
    "\n",
    "    hue_order = ['milp_fine', 'naive_fine']\n",
    "    sns.barplot(data=df_fine[lambda x: x.N_s == N_s], x='charge_ratio', y='utilization', hue='experiment_type', hue_order=hue_order, edgecolor='black', alpha=0.7, ax=ax, palette=palette)\n",
    "\n",
    "    handles, labels = ax.get_legend_handles_labels()\n",
    "    new_labels = [label_translation[i] for i in labels]\n",
    "    leg = ax.legend(handles, new_labels, frameon=False)\n",
    "    if i != 0:\n",
    "        leg.remove()\n",
    "\n",
    "    ax.set_xlabel(\"Charge ratio \" + r\"$(r^{-} / r^{+})$\")\n",
    "    ax.set_ylabel(\"Utilization\")\n",
    "    ax.set_ylim([0, 1])\n",
    "    plt.grid(axis='y')\n",
    "\n",
    "    plt.savefig(f\"../out/figures/charging_station_utility/N_s{N_s}.utilization.fine.bar.pdf\", bbox_inches='tight')\n",
    "    plt.show()"
   ]
  },
  {
   "cell_type": "code",
   "execution_count": null,
   "id": "6468c2e8-ddf3-404c-8300-f6a4a30c9f10",
   "metadata": {},
   "outputs": [],
   "source": [
    "cp = color_palette()\n",
    "palette = [cp[2], cp[1]]\n",
    "\n",
    "ymax = df_fine.execution_time.max() + 100\n",
    "\n",
    "for i, N_s in enumerate([1, 2, 3]):\n",
    "    _, ax = plt.subplots(figsize=figsize, dpi=dpi)\n",
    "\n",
    "    hue_order = ['milp_fine', 'naive_fine']\n",
    "    sns.barplot(data=df_fine[lambda x: x.N_s == N_s], x='charge_ratio', y='frac_waited', hue='experiment_type', hue_order=hue_order, edgecolor='black', alpha=0.7, ax=ax, palette=palette)\n",
    "\n",
    "    handles, labels = ax.get_legend_handles_labels()\n",
    "    new_labels = [label_translation[i] for i in labels]\n",
    "    leg = ax.legend(handles, new_labels, frameon=False)\n",
    "    if i != 0:\n",
    "        leg.remove()\n",
    "\n",
    "    ax.set_xlabel(\"Charge ratio \" + r\"$(r^{-} / r^{+})$\")\n",
    "    ax.set_ylabel(\"Fraction of time\\nspent waiting\")\n",
    "    ax.set_ylim([0, 1])\n",
    "    plt.grid(axis='y')\n",
    "\n",
    "    plt.savefig(f\"../out/figures/charging_station_utility/N_s{N_s}.frac_waited.fine.bar.pdf\", bbox_inches='tight')\n",
    "    plt.show()"
   ]
  }
 ],
 "metadata": {
  "kernelspec": {
   "display_name": "Python 3 (ipykernel)",
   "language": "python",
   "name": "python3"
  },
  "language_info": {
   "codemirror_mode": {
    "name": "ipython",
    "version": 3
   },
   "file_extension": ".py",
   "mimetype": "text/x-python",
   "name": "python",
   "nbconvert_exporter": "python",
   "pygments_lexer": "ipython3",
   "version": "3.8.13"
  }
 },
 "nbformat": 4,
 "nbformat_minor": 5
}

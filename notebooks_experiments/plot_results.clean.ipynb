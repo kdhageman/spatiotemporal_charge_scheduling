{
 "cells": [
  {
   "cell_type": "code",
   "execution_count": null,
   "id": "7a4adae1-a5e2-4020-85c2-1847538d31a5",
   "metadata": {},
   "outputs": [],
   "source": [
    "import os\n",
    "import re\n",
    "import pandas as pd\n",
    "import matplotlib.pyplot as plt\n",
    "import numpy as np\n",
    "import seaborn as sns\n",
    "import logging\n",
    "logger = logging.getLogger(__name__)\n",
    "\n",
    "box_color = '#86afb8'"
   ]
  },
  {
   "cell_type": "code",
   "execution_count": null,
   "id": "c618a22f-ff10-4283-810e-546be7e178b8",
   "metadata": {},
   "outputs": [],
   "source": [
    "def load_data(directory):\n",
    "    data = []\n",
    "    columns = ['schedule_type', 'n_drones', 'sigma', 'W', 'time_limit', 'execution_time', 'iteration', 'sim_timestamp', 'solve_time', 'r_charge', 'r_deplete']\n",
    "\n",
    "    for subdir in os.listdir(directory):\n",
    "        if os.path.isdir(os.path.join(basedir, subdir)):\n",
    "            match = re.match(\"milp_ndrones(\\d+)_sigma(\\d+)_W(\\d+)_tl(\\d+)_rc(0.\\d+)_rd(0.\\d+)\", subdir)\n",
    "            if match:\n",
    "                # MILP simulation\n",
    "                schedule_type = \"milp\"\n",
    "                n_drones, sigma, W, time_limit, r_charge, r_deplete = int(match[1]), int(match[2]), int(match[3]), int(match[4]), float(match[5]), float(match[6])\n",
    "            match = re.match(\"naive_(\\d+)_rc(0.\\d+)_rd(0.\\d+)\", subdir)\n",
    "            if match:\n",
    "                # Naive simulation\n",
    "                schedule_type = \"naive\"\n",
    "                n_drones, sigma, W, time_limit, r_charge, r_deplete = int(match[1]), None, None, None, float(match[2]), float(match[3])\n",
    " \n",
    "            if not schedule_type:\n",
    "                logger.debug(f\"non-experiment directory, skipping '{subdir}'\")\n",
    "\n",
    "            # execution time\n",
    "            fname = os.path.join(basedir, subdir, \"execution_time.txt\")\n",
    "            try:\n",
    "                with open(fname, 'r') as f:\n",
    "                    execution_time = float(f.read())\n",
    "            except FileNotFoundError:\n",
    "                logger.debug(\"failed to read execution time\")\n",
    "                execution_time = np.NaN\n",
    "\n",
    " \n",
    "            # solve times\n",
    "            fname = os.path.join(basedir, subdir, \"solve_times.csv\")\n",
    "            df_solve_times = pd.read_csv(fname)            \n",
    "            for _, row in df_solve_times.iterrows():\n",
    "                it, sim_timestamp, solve_time = row[['iteration', 'sim_timestamp', 'solve_time']]\n",
    "                data.append([schedule_type, n_drones, sigma, W, time_limit, execution_time, it, sim_timestamp, solve_time, r_charge, r_deplete])    \n",
    "    res = pd.DataFrame(data=data, columns=columns).fillna(0)\n",
    "    res['W'] = res['W'].astype(int)\n",
    "    return res"
   ]
  },
  {
   "cell_type": "markdown",
   "id": "37a74b65-22e9-4766-a505-82df7ceb1ad1",
   "metadata": {
    "tags": []
   },
   "source": [
    "# Planning horizon"
   ]
  },
  {
   "cell_type": "markdown",
   "id": "6b0d6818-e3a5-43a8-adb0-2be5b5403c5b",
   "metadata": {
    "tags": []
   },
   "source": [
    "## Increase $\\sigma$"
   ]
  },
  {
   "cell_type": "code",
   "execution_count": null,
   "id": "c074f837-9cd0-486f-9e76-148d2e956cb1",
   "metadata": {},
   "outputs": [],
   "source": [
    "basedir = \"../out/villalvernia/1_planning_horizon/increase_sigma\"\n",
    "df_increase_sigma = load_data(basedir)\n",
    "df_increase_sigma_milp = df_increase_sigma[lambda x: x.schedule_type == 'milp']"
   ]
  },
  {
   "cell_type": "code",
   "execution_count": null,
   "id": "9bf4c996-c3fb-461d-86cc-e4faa6fa06dd",
   "metadata": {},
   "outputs": [],
   "source": [
    "_, ax = plt.subplots(figsize=np.array((4.5,2))*1, dpi=100)\n",
    "\n",
    "df_filtered = df_increase_sigma_milp.drop_duplicates(['sigma'])\n",
    "X = df_filtered.sigma\n",
    "Y = df_filtered.execution_time\n",
    "baseline_execution_time = df_increase_sigma[lambda x: x.schedule_type == 'naive'].iloc[0].execution_time\n",
    "\n",
    "plt.bar(X, Y, linewidth=.8, edgecolor='black', color=box_color, width=0.7)\n",
    "xmin = 0.1\n",
    "xmax = 20.8\n",
    "ax.set_xlim([xmin, xmax])\n",
    "plt.axhline(baseline_execution_time, color='red')\n",
    "plt.text(xmax-0.1, baseline_execution_time+100, \"Naive strategy\", c='red', ha='right', va='bottom', fontsize=9)\n",
    "\n",
    "ax.set_axisbelow(False)\n",
    "plt.grid(axis='y')\n",
    "plt.xticks(X, fontsize=8)\n",
    "plt.xlabel(\"$\\sigma$\")\n",
    "plt.ylabel(\"Execution time (s)\")\n",
    "\n",
    "plt.savefig(\"../out/figures/1_planning_horizon_increase_sigma.pdf\", bbox_inches='tight')\n",
    "plt.show()"
   ]
  },
  {
   "cell_type": "code",
   "execution_count": null,
   "id": "8076b490-e8dd-4147-81ce-e2da82deff09",
   "metadata": {},
   "outputs": [],
   "source": [
    "# Calculate precise gain"
   ]
  },
  {
   "cell_type": "code",
   "execution_count": null,
   "id": "08d9aed7-17ea-4eaf-9e82-82601ac75905",
   "metadata": {},
   "outputs": [],
   "source": [
    "lowest_execution_time = df_increase_sigma[lambda x: x.execution_time < baseline_execution_time].execution_time.min()\n",
    "print(f\"Lowest execution time = {lowest_execution_time:.1f}s\")\n",
    "print(f\"                   or = {(1 - (lowest_execution_time / baseline_execution_time)) * 100:.1f}% faster than naive\")"
   ]
  },
  {
   "cell_type": "code",
   "execution_count": null,
   "id": "83614585-cf85-43c0-a0e9-05d40826e24e",
   "metadata": {},
   "outputs": [],
   "source": [
    "highest_execution_time = df_increase_sigma[lambda x: x.execution_time < baseline_execution_time].execution_time.max()\n",
    "print(f\"Highest execution time = {highest_execution_time:.1f}s\")\n",
    "print(f\"                    or = {(1 - (highest_execution_time / baseline_execution_time)) * 100:.1f}% faster than naive\")"
   ]
  },
  {
   "cell_type": "markdown",
   "id": "5fc8a9d7-c91f-49cd-bf3b-8a27a753d421",
   "metadata": {
    "tags": []
   },
   "source": [
    "## Full coverage"
   ]
  },
  {
   "cell_type": "code",
   "execution_count": null,
   "id": "2b0c7ee6-e2ab-4b57-8ece-ab909171be71",
   "metadata": {},
   "outputs": [],
   "source": [
    "basedir = \"../out/villalvernia/1_planning_horizon/full_coverage\"\n",
    "df_full_coverage = load_data(basedir)\n",
    "df_full_coverage_milp = df_full_coverage[lambda x: x.schedule_type == 'milp']\n",
    "df_full_coverage_milp = df_full_coverage_milp[lambda x: x.W > 6]"
   ]
  },
  {
   "cell_type": "code",
   "execution_count": null,
   "id": "827f7c72-1d2a-4909-b13b-a6ed6f44ec0e",
   "metadata": {},
   "outputs": [],
   "source": [
    "# Execution times"
   ]
  },
  {
   "cell_type": "code",
   "execution_count": null,
   "id": "ffc9e353-f3b3-4cdf-821e-255502fd35bd",
   "metadata": {},
   "outputs": [],
   "source": [
    "X = df_full_coverage_milp.W\n",
    "Y = df_full_coverage_milp.execution_time\n",
    "baseline_execution_time = df_full_coverage[lambda x: x.schedule_type == 'naive'].iloc[0].execution_time\n",
    "\n",
    "_, ax = plt.subplots(figsize=np.array((4.5,2))*1, dpi=100)\n",
    "plt.bar(X, Y, linewidth=.8, edgecolor='black', color=box_color, width=0.7)\n",
    "\n",
    "xmin = 6.1\n",
    "xmax = 20.8\n",
    "ax.set_xlim([xmin, xmax])\n",
    "plt.axhline(baseline_execution_time, color='red')\n",
    "plt.text(xmax-0.1, baseline_execution_time-50, \"Naive strategy\", c='red', ha='right', va='top', fontsize=9)\n",
    "\n",
    "plt.grid(axis='y')\n",
    "ax.set_xticks(X)\n",
    "ax.set_xlabel(\"W\")\n",
    "ax.set_ylabel(\"Execution time (s)\")\n",
    "\n",
    "plt.savefig(\"../out/figures/1_planning_horizon_full_coverage_execution_time.pdf\", bbox_inches='tight')\n",
    "plt.show()"
   ]
  },
  {
   "cell_type": "code",
   "execution_count": null,
   "id": "4e639d7d-1ee9-4e9f-9b8e-77d552b4def6",
   "metadata": {},
   "outputs": [],
   "source": [
    "lowest_execution_time = df_full_coverage_milp.execution_time.min()\n",
    "print(f\"Lowest execution time = {lowest_execution_time:.1f}s\")\n",
    "print(f\"                   or = {(1 - (lowest_execution_time / baseline_execution_time)) * 100:.1f}% faster than naive\")\n",
    "\n",
    "highest_execution_time = df_full_coverage_milp.execution_time.max()\n",
    "print(f\"Highest execution time = {highest_execution_time:.1f}s\")\n",
    "print(f\"                    or = {(1 - (highest_execution_time / baseline_execution_time)) * 100:.1f}% faster than naive\")"
   ]
  },
  {
   "cell_type": "code",
   "execution_count": null,
   "id": "833f6dd8-5526-4a9f-a06f-02dd8b1d817b",
   "metadata": {},
   "outputs": [],
   "source": [
    "# Solve times (total)"
   ]
  },
  {
   "cell_type": "code",
   "execution_count": null,
   "id": "e1c3a069-576c-40f6-add7-753e066831fb",
   "metadata": {},
   "outputs": [],
   "source": [
    "X = sorted(df_full_coverage_milp.W.unique())\n",
    "Y = df_full_coverage_milp.groupby('W').solve_time.sum()\n",
    "\n",
    "_, ax = plt.subplots(figsize=np.array((4.5,2))*1, dpi=100)\n",
    "plt.bar(X, Y, linewidth=.8, edgecolor='black', color=box_color, width=0.7)\n",
    "\n",
    "plt.grid(axis='y')\n",
    "xmin = 6.1\n",
    "xmax = 20.8\n",
    "ax.set_xlim([xmin, xmax])\n",
    "ax.set_xticks(X)\n",
    "ax.set_xlabel(\"W\")\n",
    "ax.set_ylabel(\"Total solve time (s)\")\n",
    "\n",
    "plt.savefig(\"../out/figures/1_planning_horizon_full_coverage_solve_time_total.pdf\", bbox_inches='tight')\n",
    "plt.show()"
   ]
  },
  {
   "cell_type": "code",
   "execution_count": null,
   "id": "7690b910-b45b-4433-8e30-9d5988f138af",
   "metadata": {},
   "outputs": [],
   "source": [
    "# Solve times (boxplot)"
   ]
  },
  {
   "cell_type": "code",
   "execution_count": null,
   "id": "6e866fb8-c538-46b1-8715-0c50ab373656",
   "metadata": {},
   "outputs": [],
   "source": [
    "_, ax = plt.subplots(figsize=np.array((4.5,2))*1, dpi=100)\n",
    "sns.boxplot(x=\"W\", y=\"solve_time\", data=df_full_coverage_milp, ax=ax, width=0.6, linewidth=1, whis=[0, 100], zorder=10, color=box_color)\n",
    "plt.yscale('log')\n",
    "plt.ylabel(\"Solve time [log] (s)\")\n",
    "\n",
    "ticks = [1, 10, 60, 600, 1800]\n",
    "labels = ['1s', '10s', '1m', '10m', '30m']\n",
    "plt.yticks(ticks, labels)\n",
    "ax.set_axisbelow(True)\n",
    "plt.grid(axis='y')\n",
    "\n",
    "plt.savefig(\"../out/figures/1_planning_horizon_full_coverage_solve_time_box.pdf\", bbox_inches='tight')\n",
    "plt.show()"
   ]
  },
  {
   "cell_type": "markdown",
   "id": "8641772d-f487-40e2-ba74-b4367a1ac1b7",
   "metadata": {},
   "source": [
    "# Number of drones"
   ]
  },
  {
   "cell_type": "code",
   "execution_count": null,
   "id": "54379722-1178-452b-b03f-9ac2463a5dd7",
   "metadata": {},
   "outputs": [],
   "source": [
    "basedir = \"../out/villalvernia/2_n_drones\"\n",
    "df_n_drones = load_data(basedir)\n",
    "df_n_drones_milp = df_n_drones[lambda x: (x.schedule_type == 'milp') & (x.W == 20)].drop_duplicates(['schedule_type', 'n_drones'])\n",
    "df_n_drones_naive = df_n_drones[lambda x: x.schedule_type == 'naive'].drop_duplicates(['schedule_type', 'n_drones'])"
   ]
  },
  {
   "cell_type": "code",
   "execution_count": null,
   "id": "24773346-6a79-4592-b210-2f9519b6086c",
   "metadata": {},
   "outputs": [],
   "source": [
    "_, ax = plt.subplots(figsize=np.array((4.5,2))*1, dpi=100)\n",
    "df_plot = pd.concat([df_n_drones_milp, df_n_drones_naive])\n",
    "sns.barplot(x='n_drones', y='execution_time', hue='schedule_type', data=df_plot, edgecolor='black', linewidth=0.75)\n",
    "\n",
    "# add gains\n",
    "for i, n_drones in enumerate(sorted(df_plot.n_drones.unique())):\n",
    "    milp_time = df_n_drones_milp[lambda x: x.n_drones == n_drones].iloc[0].execution_time\n",
    "    naive_time = df_n_drones_naive[lambda x: x.n_drones == n_drones].iloc[0].execution_time\n",
    "    max_time = max(milp_time, naive_time)\n",
    "    rel_perc = (milp_time / naive_time * 100)\n",
    "    diff = 100 - rel_perc\n",
    "\n",
    "    if diff > 0:\n",
    "        color = 'green'\n",
    "        txt = r\"$\\downarrow$\" + f\"{-diff:.1f}%\"\n",
    "    else:\n",
    "        color = 'red'\n",
    "        txt = r\"$\\uparrow$\" + f\"+{-diff:.1f}%\"\n",
    "    plt.text(i, max_time + 50, txt, ha='center', va='bottom', backgroundcolor='white', color=color, fontsize=9, bbox=dict(boxstyle='square,pad=0', fc='white', ec='none'))\n",
    "    \n",
    "ymin, ymax = plt.ylim()\n",
    "plt.ylim([ymin, ymax+500])\n",
    "plt.legend(fontsize=8)\n",
    "plt.xlabel(\"$N_d$\")\n",
    "plt.ylabel(\"Execution time (s)\")\n",
    "\n",
    "ax.set_axisbelow(True)\n",
    "plt.grid(axis='y')\n",
    "\n",
    "plt.savefig(\"../out/figures/2_n_drones.pdf\", bbox_inches='tight')\n",
    "plt.show()"
   ]
  }
 ],
 "metadata": {
  "kernelspec": {
   "display_name": "Python 3 (ipykernel)",
   "language": "python",
   "name": "python3"
  },
  "language_info": {
   "codemirror_mode": {
    "name": "ipython",
    "version": 3
   },
   "file_extension": ".py",
   "mimetype": "text/x-python",
   "name": "python",
   "nbconvert_exporter": "python",
   "pygments_lexer": "ipython3",
   "version": "3.8.13"
  }
 },
 "nbformat": 4,
 "nbformat_minor": 5
}

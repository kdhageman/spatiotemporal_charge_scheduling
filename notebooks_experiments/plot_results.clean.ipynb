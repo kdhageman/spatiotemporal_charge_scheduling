{
 "cells": [
  {
   "cell_type": "code",
   "execution_count": null,
   "id": "7a4adae1-a5e2-4020-85c2-1847538d31a5",
   "metadata": {
    "pycharm": {
     "name": "#%%\n"
    }
   },
   "outputs": [],
   "source": [
    "import os\n",
    "import re\n",
    "import pandas as pd\n",
    "import matplotlib.pyplot as plt\n",
    "import numpy as np\n",
    "import seaborn as sns\n",
    "import logging\n",
    "logger = logging.getLogger(__name__)\n",
    "\n",
    "box_color = '#86afb8'"
   ]
  },
  {
   "cell_type": "code",
   "execution_count": null,
   "id": "c618a22f-ff10-4283-810e-546be7e178b8",
   "metadata": {
    "pycharm": {
     "name": "#%%\n"
    }
   },
   "outputs": [],
   "source": [
    "r_milp = \"milp_ndrones(?P<ndrones>\\d+)_sigma(?P<sigma>\\d+)_W(?P<W>\\d+)_tl(?P<time_limit>\\d+)_rc(?P<r_charge>0.\\d+)_rd(?P<r_deplete>0.\\d+)(?:_n(?P<rescheduling_frequency>\\d+)|)(?:_Bmin(?P<Bmin>0.\\d+)|)\"\n",
    "r_naive = \"naive_(\\d+)_rc(0.\\d+)_rd(0.\\d+)(?:_Bmin(?P<Bmin>0.\\d+)|)\"\n",
    "\n",
    "def load_data(directory):\n",
    "    data = []\n",
    "    columns = ['schedule_type', 'n_drones', 'sigma', 'W', 'time_limit', 'execution_time', 'iteration', 'sim_timestamp', 'solve_time', 'r_charge', 'r_deplete', 'rescheduling_frequency', 'B_min']\n",
    "\n",
    "    for subdir in os.listdir(directory):\n",
    "        if os.path.isdir(os.path.join(basedir, subdir)):\n",
    "            match = re.match(r_milp, subdir)\n",
    "            if match:\n",
    "                # MILP simulation\n",
    "                schedule_type = \"milp\"\n",
    "                n_drones, sigma, W, time_limit, r_charge, r_deplete, rescheduling_frequency, Bmin = int(match[1]), int(match[2]), int(match[3]), int(match[4]), float(match[5]), float(match[6]), int(match[7]) if match[7] else np.NaN, float(match[8]) if match[8] else np.NaN\n",
    "            match = re.match(r_naive, subdir)\n",
    "            if match:\n",
    "                # Naive simulation\n",
    "                schedule_type = \"naive\"\n",
    "                n_drones, sigma, W, time_limit, r_charge, r_deplete, rescheduling_frequency, Bmin = int(match[1]), None, None, None, float(match[2]), float(match[3]), None, float(match[4]) if match[4] else np.NaN\n",
    " \n",
    "            if not schedule_type:\n",
    "                logger.debug(f\"non-experiment directory, skipping '{subdir}'\")\n",
    "\n",
    "            # execution time\n",
    "            fname = os.path.join(basedir, subdir, \"execution_time.txt\")\n",
    "            try:\n",
    "                with open(fname, 'r') as f:\n",
    "                    execution_time = float(f.read())\n",
    "            except FileNotFoundError:\n",
    "                logger.debug(\"failed to read execution time\")\n",
    "                execution_time = np.NaN\n",
    "\n",
    " \n",
    "            # solve times\n",
    "            fname = os.path.join(basedir, subdir, \"solve_times.csv\")\n",
    "            df_solve_times = pd.read_csv(fname)            \n",
    "            for _, row in df_solve_times.iterrows():\n",
    "                it, sim_timestamp, solve_time = row[['iteration', 'sim_timestamp', 'solve_time']]\n",
    "                data.append([schedule_type, n_drones, sigma, W, time_limit, execution_time, it, sim_timestamp, solve_time, r_charge, r_deplete, rescheduling_frequency, Bmin])    \n",
    "    res = pd.DataFrame(data=data, columns=columns).fillna(0)\n",
    "    res['W'] = res['W'].astype(int)\n",
    "    return res"
   ]
  },
  {
   "cell_type": "markdown",
   "id": "37a74b65-22e9-4766-a505-82df7ceb1ad1",
   "metadata": {
    "pycharm": {
     "name": "#%% md\n"
    },
    "tags": []
   },
   "source": [
    "# Planning horizon"
   ]
  },
  {
   "cell_type": "markdown",
   "id": "6b0d6818-e3a5-43a8-adb0-2be5b5403c5b",
   "metadata": {
    "pycharm": {
     "name": "#%% md\n"
    },
    "tags": []
   },
   "source": [
    "## Increase $\\sigma$"
   ]
  },
  {
   "cell_type": "code",
   "execution_count": null,
   "id": "c074f837-9cd0-486f-9e76-148d2e956cb1",
   "metadata": {
    "pycharm": {
     "name": "#%%\n"
    }
   },
   "outputs": [],
   "source": [
    "basedir = \"../out/villalvernia/1_planning_horizon/increase_sigma\"\n",
    "df_increase_sigma = load_data(basedir)\n",
    "df_increase_sigma_milp = df_increase_sigma[lambda x: x.schedule_type == 'milp']"
   ]
  },
  {
   "cell_type": "code",
   "execution_count": null,
   "id": "9bf4c996-c3fb-461d-86cc-e4faa6fa06dd",
   "metadata": {
    "pycharm": {
     "name": "#%%\n"
    }
   },
   "outputs": [],
   "source": [
    "_, ax = plt.subplots(figsize=np.array((4.5,2))*1, dpi=100)\n",
    "\n",
    "df_filtered = df_increase_sigma_milp.drop_duplicates(['sigma'])\n",
    "X = df_filtered.sigma\n",
    "Y = df_filtered.execution_time\n",
    "baseline_execution_time = df_increase_sigma[lambda x: x.schedule_type == 'naive'].iloc[0].execution_time\n",
    "\n",
    "plt.bar(X, Y, linewidth=.8, edgecolor='black', color=box_color, width=0.7)\n",
    "xmin = 0.1\n",
    "xmax = 20.8\n",
    "ax.set_xlim([xmin, xmax])\n",
    "plt.axhline(baseline_execution_time, color='red')\n",
    "plt.text(xmax-0.1, baseline_execution_time+100, \"Naive strategy\", c='red', ha='right', va='bottom', fontsize=9)\n",
    "\n",
    "ax.set_axisbelow(False)\n",
    "plt.grid(axis='y')\n",
    "plt.xticks(X, fontsize=8)\n",
    "plt.xlabel(\"$\\sigma$\")\n",
    "plt.ylabel(\"Execution time (s)\")\n",
    "\n",
    "plt.savefig(\"../out/figures/1_planning_horizon_increase_sigma.pdf\", bbox_inches='tight')\n",
    "plt.show()"
   ]
  },
  {
   "cell_type": "code",
   "execution_count": null,
   "id": "8076b490-e8dd-4147-81ce-e2da82deff09",
   "metadata": {
    "pycharm": {
     "name": "#%%\n"
    }
   },
   "outputs": [],
   "source": [
    "# Calculate precise gain"
   ]
  },
  {
   "cell_type": "code",
   "execution_count": null,
   "id": "08d9aed7-17ea-4eaf-9e82-82601ac75905",
   "metadata": {
    "pycharm": {
     "name": "#%%\n"
    }
   },
   "outputs": [],
   "source": [
    "lowest_execution_time = df_increase_sigma[lambda x: x.execution_time < baseline_execution_time].execution_time.min()\n",
    "print(f\"Lowest execution time = {lowest_execution_time:.1f}s\")\n",
    "print(f\"                   or = {(1 - (lowest_execution_time / baseline_execution_time)) * 100:.1f}% faster than naive\")"
   ]
  },
  {
   "cell_type": "code",
   "execution_count": null,
   "id": "83614585-cf85-43c0-a0e9-05d40826e24e",
   "metadata": {
    "pycharm": {
     "name": "#%%\n"
    }
   },
   "outputs": [],
   "source": [
    "highest_execution_time = df_increase_sigma[lambda x: x.execution_time < baseline_execution_time].execution_time.max()\n",
    "print(f\"Highest execution time = {highest_execution_time:.1f}s\")\n",
    "print(f\"                    or = {(1 - (highest_execution_time / baseline_execution_time)) * 100:.1f}% faster than naive\")"
   ]
  },
  {
   "cell_type": "markdown",
   "id": "5fc8a9d7-c91f-49cd-bf3b-8a27a753d421",
   "metadata": {
    "pycharm": {
     "name": "#%% md\n"
    },
    "tags": []
   },
   "source": [
    "## Increase $W$"
   ]
  },
  {
   "cell_type": "code",
   "execution_count": null,
   "id": "2b0c7ee6-e2ab-4b57-8ece-ab909171be71",
   "metadata": {
    "pycharm": {
     "name": "#%%\n"
    }
   },
   "outputs": [],
   "source": [
    "basedir = \"../out/villalvernia/1_planning_horizon/increase_W\"\n",
    "df_full_coverage = load_data(basedir)\n",
    "df_full_coverage_milp = df_full_coverage[lambda x: x.schedule_type == 'milp']\n",
    "df_full_coverage_milp = df_full_coverage_milp[lambda x: x.W > 6]"
   ]
  },
  {
   "cell_type": "code",
   "execution_count": null,
   "id": "827f7c72-1d2a-4909-b13b-a6ed6f44ec0e",
   "metadata": {
    "pycharm": {
     "name": "#%%\n"
    }
   },
   "outputs": [],
   "source": [
    "# Execution times"
   ]
  },
  {
   "cell_type": "code",
   "execution_count": null,
   "id": "ffc9e353-f3b3-4cdf-821e-255502fd35bd",
   "metadata": {
    "pycharm": {
     "name": "#%%\n"
    }
   },
   "outputs": [],
   "source": [
    "X = df_full_coverage_milp.W\n",
    "Y = df_full_coverage_milp.execution_time\n",
    "baseline_execution_time = df_full_coverage[lambda x: x.schedule_type == 'naive'].iloc[0].execution_time\n",
    "\n",
    "_, ax = plt.subplots(figsize=np.array((4.5,2))*1, dpi=100)\n",
    "plt.bar(X, Y, linewidth=.8, edgecolor='black', color=box_color, width=0.7)\n",
    "\n",
    "xmin = 6.1\n",
    "xmax = 20.8\n",
    "ax.set_xlim([xmin, xmax])\n",
    "plt.axhline(baseline_execution_time, color='red')\n",
    "plt.text(xmax-0.1, baseline_execution_time-50, \"Naive strategy\", c='red', ha='right', va='top', fontsize=9)\n",
    "\n",
    "plt.grid(axis='y')\n",
    "ax.set_xticks(X)\n",
    "ax.set_xlabel(\"W\")\n",
    "ax.set_ylabel(\"Execution time (s)\")\n",
    "\n",
    "plt.savefig(\"../out/figures/1_planning_horizon_increase_W_execution_time.pdf\", bbox_inches='tight')\n",
    "plt.show()"
   ]
  },
  {
   "cell_type": "code",
   "execution_count": null,
   "id": "4e639d7d-1ee9-4e9f-9b8e-77d552b4def6",
   "metadata": {
    "pycharm": {
     "name": "#%%\n"
    }
   },
   "outputs": [],
   "source": [
    "lowest_execution_time = df_full_coverage_milp.execution_time.min()\n",
    "print(f\"Lowest execution time = {lowest_execution_time:.1f}s\")\n",
    "print(f\"                   or = {(1 - (lowest_execution_time / baseline_execution_time)) * 100:.1f}% faster than naive\")\n",
    "\n",
    "highest_execution_time = df_full_coverage_milp.execution_time.max()\n",
    "print(f\"Highest execution time = {highest_execution_time:.1f}s\")\n",
    "print(f\"                    or = {(1 - (highest_execution_time / baseline_execution_time)) * 100:.1f}% faster than naive\")"
   ]
  },
  {
   "cell_type": "code",
   "execution_count": null,
   "id": "833f6dd8-5526-4a9f-a06f-02dd8b1d817b",
   "metadata": {
    "pycharm": {
     "name": "#%%\n"
    }
   },
   "outputs": [],
   "source": [
    "# Solve times (total)"
   ]
  },
  {
   "cell_type": "code",
   "execution_count": null,
   "id": "e1c3a069-576c-40f6-add7-753e066831fb",
   "metadata": {
    "pycharm": {
     "name": "#%%\n"
    }
   },
   "outputs": [],
   "source": [
    "X = sorted(df_full_coverage_milp.W.unique())\n",
    "Y = df_full_coverage_milp.groupby('W').solve_time.sum()\n",
    "\n",
    "_, ax = plt.subplots(figsize=np.array((4.5,2))*1, dpi=100)\n",
    "plt.bar(X, Y, linewidth=.8, edgecolor='black', color=box_color, width=0.7)\n",
    "\n",
    "plt.grid(axis='y')\n",
    "xmin = 6.1\n",
    "xmax = 20.8\n",
    "ax.set_xlim([xmin, xmax])\n",
    "ax.set_xticks(X)\n",
    "ax.set_xlabel(\"W\")\n",
    "ax.set_ylabel(\"Total solve time (s)\")\n",
    "\n",
    "plt.savefig(\"../out/figures/1_planning_horizon_increase_W_solve_time_total.pdf\", bbox_inches='tight')\n",
    "plt.show()"
   ]
  },
  {
   "cell_type": "code",
   "execution_count": null,
   "id": "7690b910-b45b-4433-8e30-9d5988f138af",
   "metadata": {
    "pycharm": {
     "name": "#%%\n"
    }
   },
   "outputs": [],
   "source": [
    "# Solve times (boxplot)"
   ]
  },
  {
   "cell_type": "code",
   "execution_count": null,
   "id": "6e866fb8-c538-46b1-8715-0c50ab373656",
   "metadata": {
    "pycharm": {
     "name": "#%%\n"
    }
   },
   "outputs": [],
   "source": [
    "_, ax = plt.subplots(figsize=np.array((4.5,2))*1, dpi=100)\n",
    "sns.boxplot(x=\"W\", y=\"solve_time\", data=df_full_coverage_milp, ax=ax, width=0.6, linewidth=1, whis=[0, 100], zorder=10, color=box_color)\n",
    "plt.yscale('log')\n",
    "plt.ylabel(\"Solve time [log]\")\n",
    "\n",
    "ticks = [1, 10, 60, 600, 1800]\n",
    "labels = ['1s', '10s', '1m', '10m', '30m']\n",
    "plt.yticks(ticks, labels)\n",
    "ax.set_axisbelow(True)\n",
    "plt.grid(axis='y')\n",
    "\n",
    "# add red horizontal line\n",
    "ax.axhline(y=600, c='red', zorder=-1)\n",
    "offsetx, offsety = 0.1, -10\n",
    "ax.text(ax.get_xlim()[0]+offsetx, 600+offsety, 'Time limit', color='red', va='top', ha='left', fontsize=9)\n",
    "\n",
    "plt.savefig(\"../out/figures/1_planning_horizon_increase_W_solve_time_box.pdf\", bbox_inches='tight')\n",
    "plt.show()"
   ]
  },
  {
   "cell_type": "markdown",
   "id": "8641772d-f487-40e2-ba74-b4367a1ac1b7",
   "metadata": {
    "pycharm": {
     "name": "#%% md\n"
    }
   },
   "source": [
    "# Number of drones"
   ]
  },
  {
   "cell_type": "code",
   "execution_count": null,
   "id": "54379722-1178-452b-b03f-9ac2463a5dd7",
   "metadata": {
    "pycharm": {
     "name": "#%%\n"
    }
   },
   "outputs": [],
   "source": [
    "basedir = \"../out/villalvernia/2_n_drones\"\n",
    "df_n_drones = load_data(basedir).drop_duplicates(['schedule_type', 'n_drones']).sort_values('schedule_type', ascending=True).sort_values('n_drones', ascending=False)\n",
    "# df_n_drones = load_data(basedir)\n",
    "df_n_drones_milp = df_n_drones[lambda x: (x.schedule_type == 'milp')]\n",
    "df_n_drones_naive = df_n_drones[lambda x: x.schedule_type == 'naive']"
   ]
  },
  {
   "cell_type": "code",
   "execution_count": null,
   "id": "24773346-6a79-4592-b210-2f9519b6086c",
   "metadata": {
    "pycharm": {
     "name": "#%%\n"
    }
   },
   "outputs": [],
   "source": [
    "_, ax = plt.subplots(figsize=np.array((4.5,2))*1, dpi=100)\n",
    "df_plot = pd.concat([df_n_drones_milp, df_n_drones_naive])\n",
    "sns.barplot(x='n_drones', y='execution_time', hue='schedule_type', data=df_plot, edgecolor='black', linewidth=0.75, hue_order=['naive', 'milp'])\n",
    "\n",
    "# add gains\n",
    "for i, n_drones in enumerate(sorted(df_plot.n_drones.unique())):\n",
    "    milp_time = df_n_drones_milp[lambda x: x.n_drones == n_drones].iloc[0].execution_time\n",
    "    naive_time = df_n_drones_naive[lambda x: x.n_drones == n_drones].iloc[0].execution_time\n",
    "    max_time = max(milp_time, naive_time)\n",
    "    rel_perc = (milp_time / naive_time * 100)\n",
    "    diff = 100 - rel_perc\n",
    "\n",
    "    if diff > 0:\n",
    "        color = 'green'\n",
    "        txt = r\"$\\downarrow$\" + f\"{-diff:.1f}%\"\n",
    "    else:\n",
    "        color = 'red'\n",
    "        txt = r\"$\\uparrow$\" + f\"+{-diff:.1f}%\"\n",
    "    plt.text(i, max_time + 50, txt, ha='center', va='bottom', backgroundcolor='white', color=color, fontsize=9, bbox=dict(boxstyle='square,pad=0.1', fc='white', ec='none'))\n",
    "    \n",
    "ymin, ymax = plt.ylim()\n",
    "plt.ylim([ymin, ymax+500])\n",
    "plt.legend(fontsize=8)\n",
    "plt.xlabel(\"$N_d$\")\n",
    "plt.ylabel(\"Execution time (s)\")\n",
    "\n",
    "ax.set_axisbelow(True)\n",
    "plt.grid(axis='y')\n",
    "\n",
    "plt.savefig(\"../out/figures/2_n_drones.pdf\", bbox_inches='tight')\n",
    "plt.show()"
   ]
  },
  {
   "cell_type": "markdown",
   "id": "3de3aca8-075c-42b4-bc4f-47d54db17050",
   "metadata": {
    "pycharm": {
     "name": "#%% md\n"
    }
   },
   "source": [
    "# Time limit on MILP solving"
   ]
  },
  {
   "cell_type": "code",
   "execution_count": null,
   "id": "2aa651f3-a7fb-433d-ad89-5d8c4a40a83d",
   "metadata": {
    "pycharm": {
     "name": "#%%\n"
    }
   },
   "outputs": [],
   "source": [
    "basedir = \"../out/villalvernia/3_solve_time\"\n",
    "df_solve_time = load_data(basedir)\n",
    "df_solve_time_milp = df_solve_time[lambda x: x.schedule_type == 'milp']"
   ]
  },
  {
   "cell_type": "code",
   "execution_count": null,
   "id": "72ab5590-bfe5-4f02-a378-48ab5b0a5379",
   "metadata": {
    "pycharm": {
     "name": "#%%\n"
    }
   },
   "outputs": [],
   "source": [
    "df_latex = df_solve_time_milp[['time_limit', 'execution_time']].drop_duplicates().sort_values(by='time_limit')\n",
    "df_latex['time_limit'] = df_latex['time_limit'].astype(int)\n",
    "df_latex.columns = ['Time limit', 'Execution time']\n",
    "\n",
    "print(df_latex.to_latex(index=False))"
   ]
  },
  {
   "cell_type": "markdown",
   "id": "48707386-04a8-4fa7-b988-b6e6b8641a34",
   "metadata": {
    "pycharm": {
     "name": "#%% md\n"
    }
   },
   "source": [
    "# Rescheduling policy"
   ]
  },
  {
   "cell_type": "code",
   "execution_count": null,
   "id": "2187e9f5-6a95-482a-98df-45b39756c46f",
   "metadata": {
    "pycharm": {
     "name": "#%%\n"
    }
   },
   "outputs": [],
   "source": [
    "basedir = \"../out/villalvernia/4_rescheduling_policy\"\n",
    "df_rescheduling_policy = load_data(basedir)\n",
    "df_rescheduling_policy_milp = df_rescheduling_policy[lambda x: x.schedule_type == 'milp']"
   ]
  },
  {
   "cell_type": "code",
   "execution_count": null,
   "id": "528de1c9-6af0-4474-87d5-40f0a64671b8",
   "metadata": {
    "pycharm": {
     "name": "#%%\n"
    }
   },
   "outputs": [],
   "source": [
    "df_rescheduling_policy_milp.drop_duplicates('rescheduling_frequency').sort_values(by='rescheduling_frequency')"
   ]
  },
  {
   "cell_type": "code",
   "execution_count": null,
   "id": "00b1b156-1d47-4a75-9e55-83fc33854f80",
   "metadata": {
    "pycharm": {
     "name": "#%%\n"
    }
   },
   "outputs": [],
   "source": [
    "labels = df_rescheduling_policy_milp.sort_values(by='rescheduling_frequency').drop_duplicates('rescheduling_frequency').rescheduling_frequency.astype(int)\n",
    "X = range(len(labels))\n",
    "Y = df_rescheduling_policy_milp.sort_values(by='rescheduling_frequency').drop_duplicates('rescheduling_frequency').execution_time\n",
    "\n",
    "_, ax = plt.subplots(figsize=np.array((4.5,2))*0.65, dpi=100)\n",
    "plt.bar(X, Y, linewidth=.8, edgecolor='black', color=box_color, width=0.7)\n",
    "plt.xticks(ticks=X, labels=labels)\n",
    "plt.xlabel(\"Rescheduling frequency\")\n",
    "plt.ylabel(\"Execution\\ntime (s)\")\n",
    "\n",
    "plt.savefig(\"../out/figures/4_rescheduling_policy_execution_time.pdf\", bbox_inches='tight')\n",
    "plt.show()"
   ]
  },
  {
   "cell_type": "code",
   "execution_count": null,
   "id": "199261df-9faf-4167-916a-3426f5a0d284",
   "metadata": {
    "pycharm": {
     "name": "#%%\n"
    }
   },
   "outputs": [],
   "source": [
    "labels = df_rescheduling_policy_milp.groupby('rescheduling_frequency').solve_time.sum().index \n",
    "X = range(len(labels))\n",
    "Y = df_rescheduling_policy_milp.groupby('rescheduling_frequency').solve_time.sum()\n",
    "\n",
    "_, ax = plt.subplots(figsize=np.array((4.5,2))*0.65, dpi=100)\n",
    "plt.bar(X, Y, linewidth=.8, edgecolor='black', color=box_color, width=0.7)\n",
    "plt.gca().invert_yaxis()\n",
    "plt.ylabel(\"Solving time\\n[sum] (s)\")\n",
    "plt.xticks([])\n",
    "\n",
    "plt.savefig(\"../out/figures/4_rescheduling_policy_solving_time_sum.pdf\", bbox_inches='tight')\n",
    "plt.show()"
   ]
  },
  {
   "cell_type": "markdown",
   "id": "970ba66e-8f31-450e-bdc7-88ca88e763bd",
   "metadata": {},
   "source": [
    "# Charging/depletion ratio"
   ]
  },
  {
   "cell_type": "code",
   "execution_count": null,
   "id": "1cc1b0cb-a91e-4400-918c-0f70df38b1ab",
   "metadata": {},
   "outputs": [],
   "source": [
    "basedir = \"../out/villalvernia/5_charging_rate\"\n",
    "df_charging_rate = load_data(basedir).drop_duplicates(['schedule_type', 'r_charge']).sort_values('schedule_type', ascending=True).sort_values('r_charge', ascending=True)\n",
    "df_charging_rate['r_ratio'] = (df_charging_rate.r_charge / df_charging_rate.r_deplete).round(4)\n",
    "df_charging_rate_milp = df_charging_rate[lambda x: x.schedule_type == 'milp']\n",
    "df_charging_rate_naive = df_charging_rate[lambda x: x.schedule_type == 'naive']"
   ]
  },
  {
   "cell_type": "code",
   "execution_count": null,
   "id": "4f23107c-9e25-4f7f-9039-ab5bb1a032f4",
   "metadata": {},
   "outputs": [],
   "source": [
    "_, ax = plt.subplots(figsize=np.array((4.5,2))*1, dpi=100)\n",
    "df_plot = pd.concat([df_charging_rate_naive, df_charging_rate_milp])\n",
    "sns.barplot(data=df_plot, x='r_ratio', y='execution_time', hue='schedule_type', edgecolor='black', linewidth=0.75, hue_order=['naive', 'milp'])\n",
    "\n",
    "# add gains\n",
    "for i, r_ratio in enumerate(df_plot.r_ratio.unique()):\n",
    "    milp_time = df_charging_rate_milp[lambda x: x.r_ratio == r_ratio].iloc[0].execution_time\n",
    "    naive_time = df_charging_rate_naive[lambda x: x.r_ratio == r_ratio].iloc[0].execution_time\n",
    "    max_time = max(milp_time, naive_time)\n",
    "    rel_perc = (milp_time / naive_time * 100)\n",
    "    diff = 100 - rel_perc\n",
    "\n",
    "    if diff > 0:\n",
    "        color = 'green'\n",
    "        txt = r\"$\\downarrow$\" + f\"{-diff:.1f}%\"\n",
    "    else:\n",
    "        color = 'red'\n",
    "        txt = r\"$\\uparrow$\" + f\"+{-diff:.1f}%\"\n",
    "    plt.text(i, max_time + 50, txt, ha='center', va='bottom', backgroundcolor='white', color=color, fontsize=9, bbox=dict(boxstyle='square,pad=0.1', fc='white', ec='none'))\n",
    "\n",
    "ymin, ymax = plt.ylim()\n",
    "plt.ylim([ymin, ymax+500])\n",
    "plt.legend(fontsize=8)\n",
    "# plt.xticks(ticks=df_plot.x_val.unique(), labels=df_plot.r_ratio.unique())\n",
    "plt.xlabel(r\"Ratio charging rate and depletion rate\")\n",
    "plt.ylabel(\"Execution time (s)\")\n",
    "\n",
    "ax.set_axisbelow(True)\n",
    "plt.grid(axis='y')\n",
    "\n",
    "plt.savefig(\"../out/figures/5_charging_rate.pdf\", bbox_inches='tight')\n",
    "plt.show()"
   ]
  },
  {
   "cell_type": "markdown",
   "id": "b8771afa-02fe-4930-80e8-167067f1ce48",
   "metadata": {},
   "source": [
    "# Charging cycle"
   ]
  },
  {
   "cell_type": "code",
   "execution_count": null,
   "id": "5b472485-c37f-45de-8c08-aab567f674f8",
   "metadata": {},
   "outputs": [],
   "source": [
    "basedir = \"../out/villalvernia/6_charging_cycle\"\n",
    "df_charge_cycle = load_data(basedir).drop_duplicates(['schedule_type', 'B_min'])\n",
    "df_charge_cycle_milp = df_charge_cycle[lambda x: x.schedule_type == 'milp']\n",
    "df_charge_cycle_naive = df_charge_cycle[lambda x: x.schedule_type == 'naive']"
   ]
  },
  {
   "cell_type": "code",
   "execution_count": null,
   "id": "d2b6919b-dbb9-4644-912c-2c1f61c285d8",
   "metadata": {},
   "outputs": [],
   "source": [
    "_, ax = plt.subplots(figsize=np.array((4.5,2))*1, dpi=100)\n",
    "sns.barplot(data=df_charge_cycle, x='B_min', y='execution_time', hue='schedule_type', edgecolor='black', linewidth=0.75, hue_order=['naive', 'milp'])\n",
    "\n",
    "\n",
    "# add gains\n",
    "for i, B_min in enumerate(sorted(df_charge_cycle.B_min.unique())):\n",
    "    milp_time = df_charge_cycle_milp[lambda x: x.B_min == B_min].iloc[0].execution_time\n",
    "    naive_time = df_charge_cycle_naive[lambda x: x.B_min == B_min].iloc[0].execution_time\n",
    "    max_time = max(milp_time, naive_time)\n",
    "    rel_perc = (milp_time / naive_time * 100)\n",
    "    diff = 100 - rel_perc\n",
    "\n",
    "    if diff > 0:\n",
    "        color = 'green'\n",
    "        txt = r\"$\\downarrow$\" + f\"{-diff:.1f}%\"\n",
    "    else:\n",
    "        color = 'red'\n",
    "        txt = r\"$\\uparrow$\" + f\"+{-diff:.1f}%\"\n",
    "    plt.text(i, max_time + 50, txt, ha='center', va='bottom', backgroundcolor='white', color=color, fontsize=9, bbox=dict(boxstyle='square,pad=0.1', fc='white', ec='none'))\n",
    "    \n",
    "ymin, ymax = plt.ylim()\n",
    "plt.ylim([ymin, ymax+500])\n",
    "plt.legend(fontsize=8, loc='lower right')\n",
    "plt.xlabel(\"$B^{min}$\")\n",
    "plt.ylabel(\"Execution time (s)\")\n",
    "\n",
    "ax.set_axisbelow(True)\n",
    "plt.grid(axis='y')\n",
    "\n",
    "plt.savefig(\"../out/figures/6_charging_cycle.pdf\", bbox_inches='tight')\n",
    "plt.show()"
   ]
  }
 ],
 "metadata": {
  "kernelspec": {
   "display_name": "Python 3 (ipykernel)",
   "language": "python",
   "name": "python3"
  },
  "language_info": {
   "codemirror_mode": {
    "name": "ipython",
    "version": 3
   },
   "file_extension": ".py",
   "mimetype": "text/x-python",
   "name": "python",
   "nbconvert_exporter": "python",
   "pygments_lexer": "ipython3",
   "version": "3.8.13"
  }
 },
 "nbformat": 4,
 "nbformat_minor": 5
}

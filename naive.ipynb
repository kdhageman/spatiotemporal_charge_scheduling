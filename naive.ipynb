{
 "cells": [
  {
   "cell_type": "code",
   "execution_count": null,
   "id": "5b158887-5699-4539-8c02-4d8ddbe142a1",
   "metadata": {},
   "outputs": [],
   "source": [
    "%reload_ext autoreload\n",
    "%autoreload 2\n",
    "\n",
    "from util.scenario import Scenario\n",
    "import numpy as np\n",
    "import matplotlib.pyplot as plt\n",
    "from pyomo_models.base import BaseModel\n",
    "from pyomo_models.multi_uavs import MultiUavModel\n",
    "from pyomo.opt import SolverFactory\n",
    "from simulate.simulate import Simulation, Schedule, Parameters\n",
    "from util import constants\n",
    "from tqdm.notebook import tqdm\n",
    "from strategy.naive import NaiveStrategy"
   ]
  },
  {
   "cell_type": "code",
   "execution_count": null,
   "id": "cb275e67-67a7-4ddf-a1ff-5ee5b23b0b81",
   "metadata": {},
   "outputs": [],
   "source": [
    "sc = Scenario.from_file(\"scenarios/three_drones_circling.yml\")\n",
    "# sc = Scenario.from_file(\"scenarios/two_longer_path.yaml\")\n",
    "\n",
    "_, ax = plt.subplots(figsize=(4,4), dpi=70)\n",
    "sc.plot(ax=ax, draw_distances=False)\n",
    "ax.set_aspect('equal', adjustable='box')\n",
    "ax.axis('off')\n",
    "\n",
    "plt.savefig(\"out/multi_uav_path.pdf\", bbox_inches=\"tight\")\n",
    "plt.show()"
   ]
  },
  {
   "cell_type": "code",
   "execution_count": null,
   "id": "a6df8a9a-040c-4509-b25a-f9dd5b6b841a",
   "metadata": {},
   "outputs": [],
   "source": [
    "B_min = 0.1\n",
    "B_max = 1\n",
    "B_start = [1, 1, 1]\n",
    "v = [1,1,1]\n",
    "r_charge = np.array([0.15, 0.15, 0.15])\n",
    "r_deplete = np.array([0.3, 0.3, 0.3])\n",
    "parameters = {p: eval(p) for p in ['B_min', 'B_max', 'B_start', 'v', 'r_charge', 'r_deplete']}"
   ]
  },
  {
   "cell_type": "code",
   "execution_count": null,
   "id": "97aac669-255d-46dd-b127-4bd19f1e23c3",
   "metadata": {},
   "outputs": [],
   "source": [
    "model = MultiUavModel(sc, parameters)\n",
    "model.epsilon = 0.1\n",
    "\n",
    "solver = SolverFactory(\"mindtpy\")\n",
    "solution = solver.solve(model, mip_solver='gurobi', nlp_solver='ipopt')"
   ]
  },
  {
   "cell_type": "code",
   "execution_count": null,
   "id": "6fa5c37e-aab0-468b-8de7-f695dfe13899",
   "metadata": {},
   "outputs": [],
   "source": [
    "# naive approach\n",
    "strat = NaiveStrategy(sc, parameters=parameters)\n",
    "decisions, waiting_times, charging_times = strat.simulate()"
   ]
  },
  {
   "cell_type": "code",
   "execution_count": null,
   "id": "4b80f8f2-c9dc-4e55-98b6-94235a881811",
   "metadata": {},
   "outputs": [],
   "source": [
    "# find max timestamp\n",
    "# model\n",
    "max_time_model = model.execution_time()\n",
    "\n",
    "# naive approach\n",
    "times_naive = []\n",
    "for d in range(sc.N_d):\n",
    "    schedule = Schedule(decisions[d], charging_times[d], waiting_times[d])\n",
    "    # hacky way to get parameters object\n",
    "    params = Simulation.from_base_model(BaseModel(sc, parameters), d).params\n",
    "    \n",
    "    sim = Simulation(schedule, params)\n",
    "    t = sim.simulate()[1][-1]\n",
    "    times_naive.append(t)\n",
    "\n",
    "max_time_naive = max(times_naive)\n",
    "max_time = max(max_time_naive, max_time_model)"
   ]
  },
  {
   "cell_type": "code",
   "execution_count": null,
   "id": "37d05c1e-0e16-446d-9c38-d5ef9be85844",
   "metadata": {},
   "outputs": [],
   "source": [
    "fig, axes = plt.subplots(sc.N_d, 1, figsize=(3, sc.N_d), dpi=80, sharey=True)\n",
    "fig.subplots_adjust(hspace=.4)\n",
    "for d in range(sc.N_d):\n",
    "    schedule = Schedule(decisions[d], charging_times[d], waiting_times[d])\n",
    "    # hacky way to get parameters object\n",
    "    params = Simulation.from_base_model(BaseModel(sc, parameters), d).params\n",
    "    \n",
    "    sim = Simulation(schedule, params)\n",
    "    sim.plot_charge(ax=axes[d])\n",
    "    \n",
    "    # set xtick\n",
    "    t = sim.simulate()[1][-1]\n",
    "    axes[d].set_xticks([t], [f\"{t:.2f}s\"])\n",
    "    \n",
    "    axes[d].set_xlim([-1, max_time+1])\n",
    "    if d != sc.N_d - 1:\n",
    "        axes[d].set_xlabel(\"\")\n",
    "\n",
    "plt.savefig(\"out/model_vs_naive/naive.pdf\", bbox_inches=\"tight\")\n",
    "plt.savefig(\"out/model_vs_naive/naive.png\", dpi=500, bbox_inches=\"tight\")\n",
    "plt.show()"
   ]
  },
  {
   "cell_type": "code",
   "execution_count": null,
   "id": "4fefb338-1dd7-40d1-9dcb-9cfca9790b06",
   "metadata": {},
   "outputs": [],
   "source": [
    "fig, axes = plt.subplots(sc.N_d, 1, figsize=(3, sc.N_d), dpi=80, sharey=True)\n",
    "fig.subplots_adjust(hspace=.4)\n",
    "for d in range(sc.N_d):\n",
    "    sim = Simulation.from_base_model(model, d)\n",
    "    sim.plot_charge(ax=axes[d])\n",
    "    \n",
    "    # set xtick\n",
    "    t = sim.simulate()[1][-1]\n",
    "    axes[d].set_xticks([t], [f\"{t:.2f}s\"])\n",
    "    \n",
    "    axes[d].set_xlim([-1, max_time+1])  \n",
    "    if d != sc.N_d - 1:\n",
    "        axes[d].set_xlabel(\"\")\n",
    "        \n",
    "    \n",
    "plt.savefig(\"out/model_vs_naive/model.pdf\", bbox_inches=\"tight\")\n",
    "plt.savefig(\"out/model_vs_naive/model.png\", dpi=500, bbox_inches=\"tight\")\n",
    "plt.show()"
   ]
  }
 ],
 "metadata": {
  "kernelspec": {
   "display_name": "Python 3 (ipykernel)",
   "language": "python",
   "name": "python3"
  },
  "language_info": {
   "codemirror_mode": {
    "name": "ipython",
    "version": 3
   },
   "file_extension": ".py",
   "mimetype": "text/x-python",
   "name": "python",
   "nbconvert_exporter": "python",
   "pygments_lexer": "ipython3",
   "version": "3.10.0"
  }
 },
 "nbformat": 4,
 "nbformat_minor": 5
}

{
 "cells": [
  {
   "cell_type": "code",
   "execution_count": null,
   "id": "e09f7fb0-04ad-4d2e-b15a-1eebd45a8cd8",
   "metadata": {},
   "outputs": [],
   "source": [
    "%reload_ext autoreload\n",
    "%autoreload 2\n",
    "\n",
    "from util.scenario import Scenario\n",
    "import numpy as np\n",
    "import matplotlib.pyplot as plt\n",
    "from pyomo_models.base import BaseModel\n",
    "from pyomo_models.multi_uavs import MultiUavModel\n",
    "from pyomo.opt import SolverFactory\n",
    "from simulate.simulate import Simulation, WhiteNoiseEnvironment\n",
    "from tqdm.notebook import tqdm\n",
    "import pandas as pd"
   ]
  },
  {
   "cell_type": "code",
   "execution_count": null,
   "id": "41e3bcce-aa7d-4f3c-96b7-633badc630db",
   "metadata": {},
   "outputs": [],
   "source": [
    "sc = Scenario.from_file(\"scenarios/single_longer_path.yaml\")\n",
    "\n",
    "# PARAMETERS\n",
    "B_min = 0.2\n",
    "B_max = 1\n",
    "B_start = [1]\n",
    "v = [1]\n",
    "r_charge = np.array([1])\n",
    "r_deplete = np.array([0.35])\n",
    "\n",
    "parameters = {p: eval(p) for p in ['B_min', 'B_max', 'B_start', 'r_charge', 'r_deplete', 'v']}\n",
    "model = BaseModel(sc, parameters)\n",
    "\n",
    "solution = SolverFactory('gurobi').solve(model) \n",
    "time_taken = solution['solver'][0]['time']\n",
    "print(f\"Took {time_taken:.3f}s to find charging schedule\")"
   ]
  },
  {
   "cell_type": "code",
   "execution_count": null,
   "id": "20beef59-1e4b-45af-bc78-2cb1a100ada2",
   "metadata": {},
   "outputs": [],
   "source": [
    "env = WhiteNoiseEnvironment()"
   ]
  },
  {
   "cell_type": "markdown",
   "id": "23468d2d-c0ff-43d0-8fdd-b8de1a50fde4",
   "metadata": {},
   "source": [
    "### Default strategy"
   ]
  },
  {
   "cell_type": "code",
   "execution_count": null,
   "id": "80b52ee6-9b18-4c53-aa24-a63a3754aefa",
   "metadata": {},
   "outputs": [],
   "source": [
    "nsims = 10000\n",
    "np.random.seed(0)\n",
    "\n",
    "total_charges = []\n",
    "successes = []\n",
    "\n",
    "sim = Simulation.from_base_model(model, 0, env=env)\n",
    "\n",
    "for i in tqdm(range(nsims)):\n",
    "    charges, timestamps, path, path_arrivals, charging_windows, ok = sim.simulate()\n",
    "    successes.append(ok)\n",
    "    total_charges += [charges]\n",
    "successes = pd.Series(successes)"
   ]
  },
  {
   "cell_type": "code",
   "execution_count": null,
   "id": "046f96aa-9a8a-4b5a-a12f-96cbfd385767",
   "metadata": {},
   "outputs": [],
   "source": [
    "_, ax = plt.subplots(figsize=(8,1.5), dpi=150)\n",
    "ok = sim.plot_charge(ax=ax)\n",
    "plt.title(\"Finished\" if ok else \"Not finished\")\n",
    "plt.show()"
   ]
  },
  {
   "cell_type": "code",
   "execution_count": null,
   "id": "e7720a04-97d7-4450-8f8c-d0884215c49a",
   "metadata": {},
   "outputs": [],
   "source": [
    "successes.sum()"
   ]
  }
 ],
 "metadata": {
  "kernelspec": {
   "display_name": "Python 3 (ipykernel)",
   "language": "python",
   "name": "python3"
  },
  "language_info": {
   "codemirror_mode": {
    "name": "ipython",
    "version": 3
   },
   "file_extension": ".py",
   "mimetype": "text/x-python",
   "name": "python",
   "nbconvert_exporter": "python",
   "pygments_lexer": "ipython3",
   "version": "3.10.0"
  }
 },
 "nbformat": 4,
 "nbformat_minor": 5
}

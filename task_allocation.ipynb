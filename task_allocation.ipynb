{
 "cells": [
  {
   "cell_type": "code",
   "execution_count": null,
   "id": "c8a3f60c-13d9-4bbd-bb84-71078af657fa",
   "metadata": {},
   "outputs": [],
   "source": [
    "%reload_ext autoreload\n",
    "%autoreload 2\n",
    "\n",
    "import matplotlib.pyplot as plt\n",
    "import numpy as np\n",
    "from pyomo.opt import SolverFactory\n",
    "from tqdm.notebook import tqdm\n",
    "from itertools import product\n",
    "from matplotlib.patches import Rectangle\n",
    "import pandas as pd\n",
    "\n",
    "from pyomo_models.task_allocation import TaskAllocationModel, Scenario, Parameters, Schedule"
   ]
  },
  {
   "cell_type": "code",
   "execution_count": null,
   "id": "5b365c41-a416-4ee3-8cd1-a171ebf3c91c",
   "metadata": {},
   "outputs": [],
   "source": [
    "sc = Scenario.from_file(\"scenarios/task_allocation/students.yaml\")"
   ]
  },
  {
   "cell_type": "code",
   "execution_count": null,
   "id": "7cae05df-410d-411c-bc87-3514c100247a",
   "metadata": {},
   "outputs": [],
   "source": [
    "N_t = 5\n",
    "v = np.array([1, 1, 1])\n",
    "r_charge = np.array([0.02, 0.02, 0.02])\n",
    "r_deplete_fly = np.array([0.00125, 0.00125, 0.00125])\n",
    "# r_deplete_fly = np.array([0.0025, 0.0025, 0.0025])\n",
    "r_deplete_inspect = np.array([0.01, 0.01, 0.01])\n",
    "i = np.array([1, 1, 2])\n",
    "B_start = [1, 1, 1]\n",
    "B_min = 0\n",
    "B_max = 1\n",
    "R = np.array([30, 30, 30, 30, 30, 30, 60, 60, 60])\n",
    "parameters = {p: eval(p) for p in ['N_t', 'v', 'r_charge', 'r_deplete_fly', 'r_deplete_inspect', 'i', 'B_start', 'B_min', 'B_max', 'R']}"
   ]
  },
  {
   "cell_type": "code",
   "execution_count": null,
   "id": "6cd627e6-0efe-4131-9b65-79386c27b169",
   "metadata": {},
   "outputs": [],
   "source": [
    "model = TaskAllocationModel(sc, parameters)"
   ]
  },
  {
   "cell_type": "code",
   "execution_count": null,
   "id": "10cc0d0e-1ab6-4561-81b1-5237632bb6bd",
   "metadata": {},
   "outputs": [],
   "source": [
    "solver = SolverFactory('gurobi')\n",
    "solver.options['TimeLimit'] = 120\n",
    "# solver.options['MIPFocus'] = 0\n",
    "# solver.options['Cuts'] = -1\n",
    "solution = solver.solve(model, tee=True) "
   ]
  },
  {
   "cell_type": "code",
   "execution_count": null,
   "id": "c6e943f0-0df2-4636-9dc3-91b14b1803d0",
   "metadata": {},
   "outputs": [],
   "source": [
    "print(solution)"
   ]
  },
  {
   "cell_type": "code",
   "execution_count": null,
   "id": "7ac4f376-3a3b-4476-a27f-0089cbc79a92",
   "metadata": {},
   "outputs": [],
   "source": [
    "for d in model.d:\n",
    "    i = model.inspection_time(d)()\n",
    "    c = model.charging_time(d)()\n",
    "    total = i + c\n",
    "    print(f\"Execution time for '{d}': {i:.2f} + {c:.2f} = {total:.2f}s\")"
   ]
  },
  {
   "cell_type": "code",
   "execution_count": null,
   "id": "51f56d26-6c28-487a-a853-6d7b15e1d274",
   "metadata": {},
   "outputs": [],
   "source": [
    "schedule = Schedule(model)"
   ]
  },
  {
   "cell_type": "markdown",
   "id": "e399394c-2d33-40b8-9f6f-5aecf4d24be5",
   "metadata": {},
   "source": [
    "### Path"
   ]
  },
  {
   "cell_type": "code",
   "execution_count": null,
   "id": "b255def7-5c61-43a9-9963-2b907334286c",
   "metadata": {},
   "outputs": [],
   "source": [
    "fig, axes = plt.subplots(1, model.N_d, figsize=(3*model.N_d, 5), sharex=True, sharey=True)\n",
    "fig.subplots_adjust(hspace=.4)\n",
    "for d in model.d:\n",
    "    sc.plot(ax=axes[d])\n",
    "    schedule.plot_path(d, sc, ax=axes[d], zorder=-1)\n",
    "    axes[d].set_title(f\"Drone ${d}$\")\n",
    "    # axes[d].axis(\"off\")\n",
    "plt.savefig(\"out/task_allocation/paths.pdf\", bbox_inches='tight')\n",
    "lines, labels = axes[0].get_legend_handles_labels() \n",
    "fig.legend(lines, labels, bbox_to_anchor=(0.5, 0), ncol=3, loc='center')\n",
    "plt.show()"
   ]
  },
  {
   "cell_type": "markdown",
   "id": "fd3b3c85-204b-4c0d-aab2-395e6d3a3d4c",
   "metadata": {},
   "source": [
    "### Battery profile\n",
    "\n",
    "The figure below shows the battery life of the drone over time. \n",
    "The red parts correspond to the inspection period."
   ]
  },
  {
   "cell_type": "code",
   "execution_count": null,
   "id": "b257cc5d-9537-4a80-a11b-2a79617dad51",
   "metadata": {},
   "outputs": [],
   "source": [
    "fig, axes = plt.subplots(model.N_d, 1, figsize=(5, 1.5*model.N_d), sharex=True)\n",
    "fig.subplots_adjust(hspace=.6)\n",
    "for d in model.d:\n",
    "    schedule.plot_battery(d, ax=axes[d])\n",
    "    axes[d].set_title(f\"$d={d}$\")\n",
    "axes[1].set_ylabel(\"battery charge\")\n",
    "plt.xlabel(\"time\")\n",
    "plt.savefig(\"out/task_allocation/battery_profile.pdf\", bbox_inches='tight')\n",
    "plt.show()"
   ]
  },
  {
   "cell_type": "markdown",
   "id": "2bf79a61-524b-4e24-9f37-17f0303e627b",
   "metadata": {},
   "source": [
    "### Inspection effort\n",
    "\n",
    "The table below illustrates the inspection 'effort' performed by each drone for each waypoint."
   ]
  },
  {
   "cell_type": "code",
   "execution_count": null,
   "id": "72212a28-8df2-4c46-a54f-26b0a831d3a0",
   "metadata": {},
   "outputs": [],
   "source": [
    "data = []\n",
    "for w in model.w:\n",
    "    row = (schedule.P[:,w,:] * schedule.I * model.i.reshape((model.i.shape[0], 1))).sum(axis=1)\n",
    "    data.append(row)\n",
    "df = pd.DataFrame(data, columns=[f\"d{d}\" for d in model.d])\n",
    "df.index = [f\"wp{wp}\" for wp in df.index]\n",
    "df['sum'] = df.sum(axis=1)"
   ]
  },
  {
   "cell_type": "code",
   "execution_count": null,
   "id": "b71761a6-6a63-4249-9140-dddb73b9a2d8",
   "metadata": {},
   "outputs": [],
   "source": [
    "df"
   ]
  },
  {
   "cell_type": "markdown",
   "id": "2f5e221b-8bff-4167-bde6-a9c47b254ea0",
   "metadata": {},
   "source": [
    "# Verify battery depletion"
   ]
  },
  {
   "cell_type": "markdown",
   "id": "e2456d77-c9ff-4fe9-b969-52119a9e1ac2",
   "metadata": {},
   "source": [
    "#### Flying"
   ]
  },
  {
   "cell_type": "code",
   "execution_count": null,
   "id": "2a98ed44-52af-4733-8c0f-fba700a286c4",
   "metadata": {},
   "outputs": [],
   "source": [
    "y = np.reshape(model.y[:,:,:,:](), (model.N_d, model.N_n, model.N_n, model.N_t-1))\n",
    "idx = np.argwhere(y == 1)\n",
    "\n",
    "distance_traveled = {d:[sum(model.D_start[d] * model.P[d,:,0]())] for d in model.d} # start distance\n",
    "\n",
    "for d, n, n_prime, t_r in idx:\n",
    "    distance = model.D[n, n_prime]\n",
    "    distance_traveled[d].append(distance)"
   ]
  },
  {
   "cell_type": "code",
   "execution_count": null,
   "id": "58534be7-37cc-48c6-b232-c4a14b917d13",
   "metadata": {
    "tags": []
   },
   "outputs": [],
   "source": [
    "for k,v in distance_traveled.items():\n",
    "    print(\"{}: {} sums to {:.1f}\".format(k, [f\"{x:.1f}\" for x in v], sum(v)))"
   ]
  },
  {
   "cell_type": "markdown",
   "id": "fa506e28-c4f8-4bd6-9f3c-8ab6b3964254",
   "metadata": {},
   "source": [
    "These distances can be turned into battery depletion:"
   ]
  },
  {
   "cell_type": "code",
   "execution_count": null,
   "id": "0feb1f31-df4a-400a-bce2-0aaa86854a6d",
   "metadata": {},
   "outputs": [],
   "source": [
    "for k,v in distance_traveled.items():\n",
    "    print(f\"{k}: {sum(v)/8:.1f}%\")"
   ]
  },
  {
   "cell_type": "markdown",
   "id": "db4364ee-e7ed-457a-bf04-e54750ee8466",
   "metadata": {},
   "source": [
    "#### Inspection"
   ]
  },
  {
   "cell_type": "code",
   "execution_count": null,
   "id": "434f1133-8051-4e15-a88e-db8266449ee7",
   "metadata": {},
   "outputs": [],
   "source": [
    "for d in model.d:\n",
    "    depleted = (schedule.I[d,:] * model.r_deplete_inspect[d]).sum()*100\n",
    "    print(f\"{d}: {depleted:.2f}%\")"
   ]
  },
  {
   "cell_type": "markdown",
   "id": "32a7a26f-3fdd-44ac-8f0f-646d8888c453",
   "metadata": {},
   "source": [
    "#### Total"
   ]
  },
  {
   "cell_type": "code",
   "execution_count": null,
   "id": "f1de3ea1-eb40-40b6-b661-246362f97dbd",
   "metadata": {},
   "outputs": [],
   "source": [
    "for d in model.d:\n",
    "    print(f\"{d}: {sum(distance_traveled[d])/8 + (schedule.I[d,:] * model.r_deplete_inspect[d]).sum()*100:.1f}%\")"
   ]
  },
  {
   "cell_type": "markdown",
   "id": "4c97ac37-a34f-4a6d-b8f4-bd10c4c68c73",
   "metadata": {},
   "source": [
    "# Output of the model"
   ]
  },
  {
   "cell_type": "markdown",
   "id": "e50bca26-c3f7-4575-a457-79a2846a1fb5",
   "metadata": {},
   "source": [
    "Decision matrix (which nodes to follow). The matrix denotes whether a drone moves to node $n$ (vertical axis) at time step $t$ (horizontal axis)."
   ]
  },
  {
   "cell_type": "code",
   "execution_count": null,
   "id": "af55c30a-faf7-40b5-983c-662a93b0a696",
   "metadata": {},
   "outputs": [],
   "source": [
    "for d in model.d:\n",
    "    print(f\"Drone {d}:\")\n",
    "    print(schedule.P[d])\n",
    "    print()"
   ]
  },
  {
   "cell_type": "markdown",
   "id": "e0a893b5-c1ac-4307-b28d-8475cbd9e050",
   "metadata": {},
   "source": [
    "Decision matrix of the inspection duration at a time step $t$"
   ]
  },
  {
   "cell_type": "code",
   "execution_count": null,
   "id": "930bc776-d7dc-49cd-bc30-44960cf5b422",
   "metadata": {},
   "outputs": [],
   "source": [
    "for d in model.d:\n",
    "    print(f\"Drone {d}:\")\n",
    "    print(schedule.I[d].round(2))\n",
    "    print()"
   ]
  }
 ],
 "metadata": {
  "kernelspec": {
   "display_name": "Python 3 (ipykernel)",
   "language": "python",
   "name": "python3"
  },
  "language_info": {
   "codemirror_mode": {
    "name": "ipython",
    "version": 3
   },
   "file_extension": ".py",
   "mimetype": "text/x-python",
   "name": "python",
   "nbconvert_exporter": "python",
   "pygments_lexer": "ipython3",
   "version": "3.10.0"
  }
 },
 "nbformat": 4,
 "nbformat_minor": 5
}

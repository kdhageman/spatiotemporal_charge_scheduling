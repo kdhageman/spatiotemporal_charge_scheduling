{
 "cells": [
  {
   "cell_type": "code",
   "execution_count": null,
   "id": "c8a3f60c-13d9-4bbd-bb84-71078af657fa",
   "metadata": {},
   "outputs": [],
   "source": [
    "%reload_ext autoreload\n",
    "%autoreload 2\n",
    "\n",
    "import matplotlib.pyplot as plt\n",
    "import numpy as np\n",
    "from pyomo.opt import SolverFactory\n",
    "from tqdm.notebook import tqdm\n",
    "\n",
    "from pyomo_models.task_allocation import TaskAllocationModel, Scenario, Parameters"
   ]
  },
  {
   "cell_type": "code",
   "execution_count": null,
   "id": "5b365c41-a416-4ee3-8cd1-a171ebf3c91c",
   "metadata": {},
   "outputs": [],
   "source": [
    "sc = Scenario.from_file(\"scenarios/task_allocation/students.yaml\")"
   ]
  },
  {
   "cell_type": "code",
   "execution_count": null,
   "id": "7cae05df-410d-411c-bc87-3514c100247a",
   "metadata": {},
   "outputs": [],
   "source": [
    "N_t = 10\n",
    "v = np.array([1, 1])\n",
    "r_charge = np.array([0.02, 0.02, 0.02])\n",
    "r_deplete_fly = np.array([0.00125, 0.00125, 0.00125])\n",
    "r_deplete_inspect = np.array([0.01, 0.01, 0.01])\n",
    "i = np.array([1, 1, 2])\n",
    "B_start = [1, 1]\n",
    "B_min = 0\n",
    "B_max = 1\n",
    "R = np.array([30, 30, 30, 30, 30, 30, 60, 60, 60])\n",
    "parameters = {p: eval(p) for p in ['N_d', 'N_t', 'v', 'r_charge', 'r_deplete_fly', 'r_deplete_inspect', 'i', 'B_start', 'B_min', 'B_max', 'R']}"
   ]
  },
  {
   "cell_type": "code",
   "execution_count": null,
   "id": "6cd627e6-0efe-4131-9b65-79386c27b169",
   "metadata": {},
   "outputs": [],
   "source": [
    "model = TaskAllocationModel(sc, parameters)"
   ]
  },
  {
   "cell_type": "code",
   "execution_count": null,
   "id": "10cc0d0e-1ab6-4561-81b1-5237632bb6bd",
   "metadata": {},
   "outputs": [],
   "source": [
    "solution = SolverFactory('gurobi').solve(model, tee=True, timelimit=300) "
   ]
  },
  {
   "cell_type": "code",
   "execution_count": null,
   "id": "9f54e575-3d8f-4bee-bb71-43159ae4dcdf",
   "metadata": {},
   "outputs": [],
   "source": [
    "print(model.execution_time())"
   ]
  },
  {
   "cell_type": "code",
   "execution_count": null,
   "id": "69c0eba5-18f9-43eb-a96c-fe49ed9f2d7d",
   "metadata": {},
   "outputs": [],
   "source": [
    "N_t_candidates = range(2, 9)\n",
    "execution_times = {}\n",
    "for N_t in tqdm(N_t_candidates):\n",
    "    parameters = {p: eval(p) for p in ['N_d', 'N_t', 'v', 'r_charge', 'r_deplete', 'i', 'B_start', 'B_min', 'B_max', 'R']}\n",
    "    model = TaskAllocationModel(sc, parameters)\n",
    "    solution = SolverFactory('gurobi').solve(model) \n",
    "    execution_times[N_t] = model.execution_time()"
   ]
  },
  {
   "cell_type": "code",
   "execution_count": null,
   "id": "a3aeb966-c222-4d31-8045-ab29573513af",
   "metadata": {},
   "outputs": [],
   "source": [
    "print(execution_times)"
   ]
  },
  {
   "cell_type": "code",
   "execution_count": null,
   "id": "1c558784-6c4f-48db-8990-9e82b0b1ae27",
   "metadata": {},
   "outputs": [],
   "source": [
    "np.reshape(model.P[:,:,:](), (model.N_d, model.N_n, model.N_t)).round(2)"
   ]
  },
  {
   "cell_type": "code",
   "execution_count": null,
   "id": "d261381f-2bd5-4ccf-974a-374dcdd2df85",
   "metadata": {},
   "outputs": [],
   "source": [
    "np.reshape(model.I[:,:](), (model.N_d, model.N_t)).round(2)"
   ]
  },
  {
   "cell_type": "code",
   "execution_count": null,
   "id": "7e1f3bd0-f03d-41e7-bb51-a897b658a253",
   "metadata": {},
   "outputs": [],
   "source": [
    "np.reshape(model.b[:,:](), (model.N_d, model.N_t)).round(2)"
   ]
  },
  {
   "cell_type": "code",
   "execution_count": null,
   "id": "f2795927-3f61-4056-ae4e-0ce09cba45b6",
   "metadata": {},
   "outputs": [],
   "source": [
    "for d in model.d:\n",
    "    print(model.inspection_time(d)())"
   ]
  },
  {
   "cell_type": "code",
   "execution_count": null,
   "id": "55bbb5cf-0c0e-4a6e-9f10-b418499a6708",
   "metadata": {},
   "outputs": [],
   "source": [
    "for d in model.d:\n",
    "    print(model.moving_time(d)())"
   ]
  },
  {
   "cell_type": "code",
   "execution_count": null,
   "id": "edc460b9-8c5a-4889-94fc-e662ff835961",
   "metadata": {},
   "outputs": [],
   "source": [
    "for d in model.d: \n",
    "    print(model.charging_time(d)())"
   ]
  },
  {
   "cell_type": "code",
   "execution_count": null,
   "id": "f54edb9c-9303-4781-9de8-dea2e2d5772f",
   "metadata": {},
   "outputs": [],
   "source": [
    "np.reshape(model.b_min[:,:](), (model.N_d, model.N_t-1)).round(2)"
   ]
  },
  {
   "cell_type": "code",
   "execution_count": null,
   "id": "6c87ec5b-cdf9-4fdc-af5d-65c8e0a895ac",
   "metadata": {},
   "outputs": [],
   "source": [
    "np.reshape(model.b_plus[:,:](), (model.N_d, model.N_t-1)).round(2)"
   ]
  },
  {
   "cell_type": "code",
   "execution_count": null,
   "id": "d5644c5c-81b4-4e1f-b359-2f6b4dc28a63",
   "metadata": {},
   "outputs": [],
   "source": []
  }
 ],
 "metadata": {
  "kernelspec": {
   "display_name": "Python 3 (ipykernel)",
   "language": "python",
   "name": "python3"
  },
  "language_info": {
   "codemirror_mode": {
    "name": "ipython",
    "version": 3
   },
   "file_extension": ".py",
   "mimetype": "text/x-python",
   "name": "python",
   "nbconvert_exporter": "python",
   "pygments_lexer": "ipython3",
   "version": "3.10.0"
  }
 },
 "nbformat": 4,
 "nbformat_minor": 5
}

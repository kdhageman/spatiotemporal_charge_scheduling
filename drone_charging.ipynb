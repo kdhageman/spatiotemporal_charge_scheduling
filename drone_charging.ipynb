{
 "cells": [
  {
   "cell_type": "code",
   "execution_count": null,
   "id": "bb9a1d97-f099-441d-bbaf-fb5e9515473e",
   "metadata": {},
   "outputs": [],
   "source": [
    "%reload_ext autoreload\n",
    "%autoreload 2\n",
    "\n",
    "import numpy as np\n",
    "from pyomo.environ import *\n",
    "import sys\n",
    "import itertools\n",
    "from itertools import product\n",
    "import pandas as pd\n",
    "from IPython.display import display\n",
    "import matplotlib.pyplot as plt\n",
    "from pyomo.opt import ProblemFormat\n",
    "from IPython.display import Markdown as md\n",
    "import matplotlib.patches as patches\n",
    "from models import first_model, second_model\n",
    "from util.plot import plot_model\n",
    "from util.first.plot import plot_model_solved as plot_first_solved\n",
    "from util.second.plot import plot_model_solved as plot_second_solved\n",
    "from util import distance"
   ]
  },
  {
   "cell_type": "markdown",
   "id": "0dc5f0fb-6ecd-4578-a02b-2184c8cba415",
   "metadata": {
    "tags": []
   },
   "source": [
    "# First model"
   ]
  },
  {
   "cell_type": "code",
   "execution_count": null,
   "id": "1bab2352-bb21-474c-a8c0-f3de5d4eddd5",
   "metadata": {},
   "outputs": [],
   "source": [
    "# INDICES\n",
    "N_d = 1 # number of drones\n",
    "N_w = 5 # number of waypoints\n",
    "N_s = 2 # number of recharge stations\n",
    "\n",
    "# PARAMETERS\n",
    "B_min = 0\n",
    "B_max = 1\n",
    "B_start = [1]\n",
    "\n",
    "m = np.array([1])\n",
    "r_charge = np.array([0.1])\n",
    "r_deplete = np.array([0.25])\n",
    "\n",
    "positions_S = [(3,1), (5,-1)] \n",
    "positions_w = [\n",
    "    [(0,0), (2.5,0), (4.5,0), (6,0), (7.5, 0)],\n",
    "] # d x w"
   ]
  },
  {
   "cell_type": "code",
   "execution_count": null,
   "id": "5e38a219-1fb0-459b-8f65-8fa6109b49db",
   "metadata": {},
   "outputs": [],
   "source": [
    "_, ax = plt.subplots(figsize=(10,5))\n",
    "plot_model(positions_S, positions_w, ax=ax)\n",
    "ax.set_aspect('equal', adjustable='box')\n",
    "ax.axis('off')\n",
    "plt.show()"
   ]
  },
  {
   "cell_type": "code",
   "execution_count": null,
   "id": "56bc7bf9-ccdc-47a7-a5d9-78a79832889b",
   "metadata": {},
   "outputs": [],
   "source": [
    "indices = {i: eval(i) for i in ['N_d', 'N_w', 'N_s']}\n",
    "parameters = {p: eval(p) for p in ['B_min', 'B_max', 'B_start', 'm', 'r_charge', 'r_deplete', 'positions_S', 'positions_w']}\n",
    "model = second_model.get_model(indices=indices, parameters=parameters)\n",
    "\n",
    "print(\"T_N:\")\n",
    "print(model.T_N)\n",
    "print()\n",
    "print(\"T_W:\")\n",
    "print(model.T_W)"
   ]
  },
  {
   "cell_type": "code",
   "execution_count": null,
   "id": "fec22d06-88b7-4967-b675-bb203849f86b",
   "metadata": {
    "tags": []
   },
   "outputs": [],
   "source": [
    "# solution = SolverFactory('cbc').solve(model, tee=True) \n",
    "solution = SolverFactory('cbc').solve(model) "
   ]
  },
  {
   "cell_type": "code",
   "execution_count": null,
   "id": "5659794d-a5ed-4a83-8510-a20d3b5fcc55",
   "metadata": {
    "tags": []
   },
   "outputs": [],
   "source": [
    "print(f\"The optimal execution time: {model.execution_time():.2f}s\")\n",
    "charging_time = sum(np.array(model.D[:,:]()))\n",
    "print(f\"Of this, the drone(s) spent {charging_time:.2f}s charging\")\n",
    "print(f\"Which means that the drone(s) spent {model.execution_time() - charging_time:.2f}s flying\")"
   ]
  },
  {
   "cell_type": "code",
   "execution_count": null,
   "id": "fe53fa13-b7fc-4649-aae0-ec0f941ce835",
   "metadata": {},
   "outputs": [],
   "source": [
    "axes = plt.subplots(2,1, figsize=(10,5)) \n",
    "ax1, ax2= axes[1]\n",
    "\n",
    "# problem\n",
    "plot_model(positions_S, positions_w, ax=ax1)\n",
    "ax1.set_aspect('equal', adjustable='box')\n",
    "ax1.axis('off')\n",
    "\n",
    "plot_second_solved(model, positions_S, positions_w, ax=ax2)\n",
    "ax2.set_aspect('equal', adjustable='box')\n",
    "ax2.axis('off')\n",
    "\n",
    "plt.show()"
   ]
  },
  {
   "cell_type": "markdown",
   "id": "3dd7b665-e2b7-450e-a04e-dd3e24fa2e6a",
   "metadata": {},
   "source": [
    "# Model definition (two drones)"
   ]
  },
  {
   "cell_type": "code",
   "execution_count": null,
   "id": "a928a154-5eaa-4b70-b632-844a701bbab0",
   "metadata": {
    "tags": []
   },
   "outputs": [],
   "source": [
    "# INDICES\n",
    "N_d = 2 # number of drones (must be 2)\n",
    "N_w = 6 # number of waypoints\n",
    "N_s = 2 # number of recharge stations\n",
    "# PARAMETERS\n",
    "B_min = 0\n",
    "B_max = 1\n",
    "B_start = [1, 1]\n",
    "\n",
    "m = np.array([1])\n",
    "r_charge = np.array([0.1, 0.1])\n",
    "r_deplete = np.array([0.3, 0.21])\n",
    "\n",
    "D_max = (B_max - B_min) / r_charge\n",
    "\n",
    "positions_S = [(1.5, 1), (3.5, 1)]\n",
    "positions_w = [\n",
    "    [(0,2), (1,2), (2,2), (3,2), (4,2), (5,2)],\n",
    "    [(0,0), (1,0), (2,0), (3,0), (4,0), (5,0)],\n",
    "] # d x w"
   ]
  },
  {
   "cell_type": "code",
   "execution_count": null,
   "id": "8f19d8e3-6e0a-4f05-9ebf-47986bc0fe38",
   "metadata": {},
   "outputs": [],
   "source": [
    "_, ax = plt.subplots(figsize=(10,5))\n",
    "plot_model(positions_S, positions_w, ax=ax)\n",
    "ax.set_aspect('equal', adjustable='box')\n",
    "ax.axis('off')\n",
    "plt.show()"
   ]
  },
  {
   "cell_type": "code",
   "execution_count": null,
   "id": "5f5c43a0-a3c7-4b5a-abc8-53e1ae163fdb",
   "metadata": {},
   "outputs": [],
   "source": [
    "indices = {i: eval(i) for i in ['N_d', 'N_w', 'N_s']}\n",
    "parameters = {p: eval(p) for p in ['B_min', 'B_max', 'B_start', 'm', 'r_charge', 'r_deplete', 'positions_S', 'positions_w']}\n",
    "model = second_model.get_model(indices=indices, parameters=parameters)\n",
    "\n",
    "print(\"T_N:\")\n",
    "print(model.T_N)\n",
    "print()\n",
    "print(\"T_W:\")\n",
    "print(model.T_W)"
   ]
  },
  {
   "cell_type": "code",
   "execution_count": null,
   "id": "b71e5c3d-2e95-483c-9b90-09d4567de449",
   "metadata": {
    "tags": []
   },
   "outputs": [],
   "source": [
    "# solution = SolverFactory('cbc').solve(model, tee=True) \n",
    "solution = SolverFactory('cbc').solve(model) "
   ]
  },
  {
   "cell_type": "code",
   "execution_count": null,
   "id": "78ffa3c4-9ff0-45c2-8070-d52ccaf082c6",
   "metadata": {},
   "outputs": [],
   "source": [
    "axes = plt.subplots(2,1, figsize=(10,5)) \n",
    "ax1, ax2= axes[1]\n",
    "\n",
    "# problem\n",
    "plot_model(positions_S, positions_w, ax=ax1)\n",
    "ax1.set_aspect('equal', adjustable='box')\n",
    "ax1.axis('off')\n",
    "\n",
    "plot_second_solved(model, positions_S, positions_w, ax=ax2)\n",
    "ax2.set_aspect('equal', adjustable='box')\n",
    "ax2.axis('off')\n",
    "\n",
    "plt.show()"
   ]
  },
  {
   "cell_type": "code",
   "execution_count": null,
   "id": "b7229ba4-10ca-4f7c-8377-3ea09a5842fc",
   "metadata": {
    "tags": []
   },
   "outputs": [],
   "source": [
    "print(f\"The optimal execution time: {model.execution_time():.2f}s\")\n",
    "charging_time = sum(np.array(model.D[:,:]()))\n",
    "print(f\"Of this, the drone(s) spent {charging_time:.2f}s charging\")\n",
    "print(f\"Which means that the drone(s) spent {model.execution_time() - charging_time:.2f}s flying\")"
   ]
  }
 ],
 "metadata": {
  "kernelspec": {
   "display_name": "Python 3 (ipykernel)",
   "language": "python",
   "name": "python3"
  },
  "language_info": {
   "codemirror_mode": {
    "name": "ipython",
    "version": 3
   },
   "file_extension": ".py",
   "mimetype": "text/x-python",
   "name": "python",
   "nbconvert_exporter": "python",
   "pygments_lexer": "ipython3",
   "version": "3.8.12"
  }
 },
 "nbformat": 4,
 "nbformat_minor": 5
}

{
 "cells": [
  {
   "cell_type": "code",
   "execution_count": null,
   "id": "bb9a1d97-f099-441d-bbaf-fb5e9515473e",
   "metadata": {},
   "outputs": [],
   "source": [
    "%reload_ext autoreload\n",
    "%autoreload 2\n",
    "\n",
    "import matplotlib.pyplot as plt\n",
    "import numpy as np\n",
    "from pyomo.opt import SolverFactory\n",
    "\n",
    "from pyomo_models.base import BaseModel\n",
    "from pyomo_models.multi_uavs import MultiUavModel\n",
    "from util.scenario import Scenario\n",
    "from simulate.simulate import Simulation\n",
    "from util import constants"
   ]
  },
  {
   "cell_type": "markdown",
   "id": "0dc5f0fb-6ecd-4578-a02b-2184c8cba415",
   "metadata": {
    "tags": []
   },
   "source": [
    "# Base model"
   ]
  },
  {
   "cell_type": "code",
   "execution_count": null,
   "id": "5e38a219-1fb0-459b-8f65-8fa6109b49db",
   "metadata": {},
   "outputs": [],
   "source": [
    "sc = Scenario.from_file(\"scenarios/single_drone.yml\")\n",
    "\n",
    "_, ax = plt.subplots(figsize=(7,7), dpi=80)\n",
    "sc.plot(ax=ax)\n",
    "ax.set_aspect('equal', adjustable='box')\n",
    "ax.axis('off')\n",
    "plt.show()"
   ]
  },
  {
   "cell_type": "code",
   "execution_count": null,
   "id": "03b4fd70-b1db-4f6d-bb58-5aab55408236",
   "metadata": {},
   "outputs": [],
   "source": [
    "# PARAMETERS\n",
    "B_min = 0\n",
    "B_max = 1\n",
    "B_start = [1]\n",
    "v = [1]\n",
    "r_charge = np.array([0.1])\n",
    "r_deplete = np.array([0.25])\n",
    "\n",
    "parameters = {p: eval(p) for p in ['B_min', 'B_max', 'B_start', 'r_charge', 'r_deplete', 'v']}\n",
    "model = BaseModel(sc, parameters)"
   ]
  },
  {
   "cell_type": "code",
   "execution_count": null,
   "id": "fec22d06-88b7-4967-b675-bb203849f86b",
   "metadata": {
    "tags": []
   },
   "outputs": [],
   "source": [
    "# solution = SolverFactory('cbc').solve(model, tee=True) \n",
    "solution = SolverFactory('cbc').solve(model) \n",
    "time_taken = solution['solver'][0]['time']\n",
    "print(f\"Took {time_taken:.3f}s to find charging schedule\")"
   ]
  },
  {
   "cell_type": "code",
   "execution_count": null,
   "id": "5659794d-a5ed-4a83-8510-a20d3b5fcc55",
   "metadata": {
    "tags": []
   },
   "outputs": [],
   "source": [
    "print(f\"The optimal execution time: {model.execution_time():.2f}s\")\n",
    "charging_time = sum(np.array(model.C[:,:]()))\n",
    "print(f\"Of this, the drone(s) spent {charging_time:.2f}s charging\")\n",
    "print(f\"Which means that the drone(s) spent {model.execution_time() - charging_time:.2f}s flying\")"
   ]
  },
  {
   "cell_type": "code",
   "execution_count": null,
   "id": "fe53fa13-b7fc-4649-aae0-ec0f941ce835",
   "metadata": {},
   "outputs": [],
   "source": [
    "axes = plt.subplots(1,2, figsize=(15,30), dpi=80) \n",
    "ax1, ax2= axes[1]\n",
    "\n",
    "# problem\n",
    "sc.plot(ax=ax1, draw_distances=False)\n",
    "ax1.set_aspect('equal', adjustable='box')\n",
    "ax1.axis('off')\n",
    "\n",
    "model.plot(ax=ax2)\n",
    "# plot_second_solved(model, positions_S, positions_w, ax=ax2)\n",
    "ax2.set_aspect('equal', adjustable='box')\n",
    "ax2.axis('off')\n",
    "\n",
    "plt.show()"
   ]
  },
  {
   "cell_type": "markdown",
   "id": "3dd7b665-e2b7-450e-a04e-dd3e24fa2e6a",
   "metadata": {
    "tags": []
   },
   "source": [
    "# Multi-UAV model"
   ]
  },
  {
   "cell_type": "code",
   "execution_count": null,
   "id": "a928a154-5eaa-4b70-b632-844a701bbab0",
   "metadata": {
    "tags": []
   },
   "outputs": [],
   "source": [
    "# PARAMETERS\n",
    "B_min = 0\n",
    "B_max = 1\n",
    "B_start = [1, 1]\n",
    "v = [1, 1]\n",
    "r_charge = np.array([0.1, 0.1])\n",
    "r_deplete = np.array([0.24, 0.24])\n",
    "\n",
    "sc = Scenario.from_file(\"scenarios/two_drones.yml\")"
   ]
  },
  {
   "cell_type": "code",
   "execution_count": null,
   "id": "8f19d8e3-6e0a-4f05-9ebf-47986bc0fe38",
   "metadata": {},
   "outputs": [],
   "source": [
    "_, ax = plt.subplots(figsize=(7,7), dpi=80)\n",
    "sc.plot(ax=ax, draw_distances=False)\n",
    "ax.set_aspect('equal', adjustable='box')\n",
    "ax.axis('off')\n",
    "plt.show()"
   ]
  },
  {
   "cell_type": "code",
   "execution_count": null,
   "id": "5f5c43a0-a3c7-4b5a-abc8-53e1ae163fdb",
   "metadata": {},
   "outputs": [],
   "source": [
    "parameters = {p: eval(p) for p in ['B_min', 'B_max', 'B_start', 'r_charge', 'r_deplete', 'v']}\n",
    "parameters['epsilon'] = 0\n",
    "model = MultiUavModel(sc, parameters)\n",
    "model.initialize_variables(seed=1)"
   ]
  },
  {
   "cell_type": "code",
   "execution_count": null,
   "id": "b71e5c3d-2e95-483c-9b90-09d4567de449",
   "metadata": {
    "tags": []
   },
   "outputs": [],
   "source": [
    "# solution = SolverFactory('cbc').solve(model, tee=True) \n",
    "solver = SolverFactory(\"mindtpy\")\n",
    "solution = solver.solve(model, mip_solver='gurobi', nlp_solver='ipopt')"
   ]
  },
  {
   "cell_type": "code",
   "execution_count": null,
   "id": "5f95fa3f-0f5a-44fb-958d-8f9d8decf747",
   "metadata": {},
   "outputs": [],
   "source": [
    "t = solution['Solver'][0]['Best solution found time']\n",
    "print(f\"Took {t:.2f}s to solve\")"
   ]
  },
  {
   "cell_type": "code",
   "execution_count": null,
   "id": "78ffa3c4-9ff0-45c2-8070-d52ccaf082c6",
   "metadata": {},
   "outputs": [],
   "source": [
    "axes = plt.subplots(1,2, figsize=(15,30), dpi=80) \n",
    "ax1, ax2= axes[1]\n",
    "\n",
    "# problem\n",
    "sc.plot(ax=ax1, draw_distances=False)\n",
    "ax1.set_aspect('equal', adjustable='box')\n",
    "ax1.axis('off')\n",
    "\n",
    "model.plot(ax=ax2)\n",
    "ax2.set_aspect('equal', adjustable='box')\n",
    "ax2.axis('off')\n",
    "\n",
    "plt.savefig(\"out/two_drones.pdf\", bbox_inches=\"tight\")\n",
    "plt.show()"
   ]
  },
  {
   "cell_type": "code",
   "execution_count": null,
   "id": "24057a74-9ddd-4e96-82cc-80c6277bce6d",
   "metadata": {},
   "outputs": [],
   "source": [
    "_, axes = plt.subplots(model.N_d, 1, figsize=(5,model.N_d), dpi=80, sharex=True, sharey=True)\n",
    "\n",
    "for d in model.d:\n",
    "    Simulation.from_base_model(model, d).plot_charge(ax=axes[d], color=constants.W_COLORS[d])\n",
    "    if d != model.N_d - 1:\n",
    "        axes[d].set_xlabel(\"\")\n",
    "    axes[d].set_xticks([])\n",
    "axes[model.N_d-1].set_xlabel(\"Time\")\n",
    "\n",
    "plt.savefig(\"out/two_drones_battery.pdf\", bbox_inches=\"tight\")\n",
    "plt.show()"
   ]
  }
 ],
 "metadata": {
  "kernelspec": {
   "display_name": "Python 3 (ipykernel)",
   "language": "python",
   "name": "python3"
  },
  "language_info": {
   "codemirror_mode": {
    "name": "ipython",
    "version": 3
   },
   "file_extension": ".py",
   "mimetype": "text/x-python",
   "name": "python",
   "nbconvert_exporter": "python",
   "pygments_lexer": "ipython3",
   "version": "3.10.0"
  }
 },
 "nbformat": 4,
 "nbformat_minor": 5
}

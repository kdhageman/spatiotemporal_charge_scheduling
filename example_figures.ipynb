{
 "cells": [
  {
   "cell_type": "code",
   "execution_count": null,
   "id": "b42dbac4-62cc-4c3e-90e1-2b8583746c47",
   "metadata": {
    "pycharm": {
     "is_executing": true
    }
   },
   "outputs": [],
   "source": [
    "%reload_ext autoreload\n",
    "%autoreload 2\n",
    "\n",
    "from util.scenario import Scenario\n",
    "import numpy as np\n",
    "import matplotlib.pyplot as plt\n",
    "from pyomo_models.base import BaseModel\n",
    "from pyomo_models.multi_uavs import MultiUavModel\n",
    "from pyomo.opt import SolverFactory\n",
    "from simulate.simulate import Simulation\n",
    "from util import constants\n",
    "from tqdm.notebook import tqdm"
   ]
  },
  {
   "cell_type": "markdown",
   "id": "800c215a-1535-44aa-8fa0-846fba7906c5",
   "metadata": {},
   "source": [
    "# Base model"
   ]
  },
  {
   "cell_type": "code",
   "execution_count": null,
   "id": "8cb863d5-458c-447f-9a5a-0a847a285a5f",
   "metadata": {},
   "outputs": [],
   "source": [
    "sc = Scenario.from_file(\"scenarios/single_longer_path.yml\")\n",
    "\n",
    "_, ax = plt.subplots(figsize=(6,6), dpi=80)\n",
    "sc.plot(ax=ax, draw_distances=False)\n",
    "ax.set_aspect('equal', adjustable='box')\n",
    "ax.axis('off')\n",
    "plt.show()"
   ]
  },
  {
   "cell_type": "code",
   "execution_count": null,
   "id": "d5b77394-2d8d-4df3-b1b4-d959a5742fe0",
   "metadata": {},
   "outputs": [],
   "source": [
    "# PARAMETERS\n",
    "B_min = 0.1\n",
    "B_max = 1\n",
    "B_start = [1]\n",
    "v = [1]\n",
    "r_charge = np.array([0.2])\n",
    "r_deplete = np.array([0.3])"
   ]
  },
  {
   "cell_type": "code",
   "execution_count": null,
   "id": "7ec40f6b-537f-4f9f-958d-ee974db55b43",
   "metadata": {},
   "outputs": [],
   "source": [
    "parameters = {p: eval(p) for p in ['B_min', 'B_max', 'B_start', 'r_charge', 'r_deplete', 'v']}\n",
    "parameters['epsilon'] = 0.1\n",
    "model = BaseModel(sc, parameters)"
   ]
  },
  {
   "cell_type": "code",
   "execution_count": null,
   "id": "ae41b7cd-09e1-46ce-baf6-0161412b1e37",
   "metadata": {},
   "outputs": [],
   "source": [
    "solver = SolverFactory(\"mindtpy\")\n",
    "solution = solver.solve(model, mip_solver='gurobi', nlp_solver='ipopt')"
   ]
  },
  {
   "cell_type": "code",
   "execution_count": null,
   "id": "d3ccdc98-a5e5-4701-bee2-c25d905da3ea",
   "metadata": {},
   "outputs": [],
   "source": [
    "print(f\"The optimal execution time: {model.execution_time():.2f}s\")\n",
    "charging_time = sum(np.array(model.C[:,:]()))\n",
    "print(f\"Of this, the drone(s) spent {charging_time:.2f}s charging\")\n",
    "print(f\"Which means that the drone(s) spent {model.execution_time() - charging_time:.2f}s flying\")"
   ]
  },
  {
   "cell_type": "code",
   "execution_count": null,
   "id": "5e432bad-1808-41b4-a4dd-97722817ca56",
   "metadata": {},
   "outputs": [],
   "source": [
    "axes = plt.subplots(1,2, figsize=(10,20), dpi=80) \n",
    "ax1, ax2= axes[1]\n",
    "\n",
    "# problem\n",
    "sc.plot(ax=ax1, draw_distances=False)\n",
    "ax1.set_aspect('equal', adjustable='box')\n",
    "ax1.axis('off')\n",
    "\n",
    "model.plot(ax=ax2)\n",
    "ax2.set_aspect('equal', adjustable='box')\n",
    "ax2.axis('off')\n",
    "\n",
    "plt.savefig(\"out/example_path.pdf\", bbox_inches=\"tight\")\n",
    "\n",
    "plt.show()"
   ]
  },
  {
   "cell_type": "code",
   "execution_count": null,
   "id": "d45fa198-e565-4649-87e6-c613f55ae7df",
   "metadata": {},
   "outputs": [],
   "source": [
    "_, ax = plt.subplots(figsize=(6,1), dpi=100)\n",
    "model.plot_charge(0, ax=ax, color='red')\n",
    "\n",
    "ax.set_xticks([])\n",
    "ax.set_xlabel(\"Time\")\n",
    "\n",
    "plt.savefig(\"out/example_battery_profile.pdf\", bbox_inches=\"tight\")\n",
    "plt.show()"
   ]
  },
  {
   "cell_type": "markdown",
   "id": "77f2a2dd-ef2c-4ecc-98b9-29099d049698",
   "metadata": {},
   "source": [
    "# Multi-UAV ($\\epsilon$ impact)"
   ]
  },
  {
   "cell_type": "code",
   "execution_count": null,
   "id": "0a6a145d-ae7c-476e-8e7b-840e6b7df9d0",
   "metadata": {},
   "outputs": [],
   "source": [
    "sc = Scenario.from_file(\"scenarios/three_drones_circling.yml\")\n",
    "# sc = Scenario.from_file(\"scenarios/two_longer_path.yaml\")\n",
    "\n",
    "_, ax = plt.subplots(figsize=(4,4), dpi=70)\n",
    "sc.plot(ax=ax, draw_distances=False)\n",
    "ax.set_aspect('equal', adjustable='box')\n",
    "ax.axis('off')\n",
    "\n",
    "plt.savefig(\"out/multi_uav_path.pdf\", bbox_inches=\"tight\")\n",
    "plt.show()"
   ]
  },
  {
   "cell_type": "code",
   "execution_count": null,
   "id": "984ea2b9-6e20-4481-b89a-300eb01c565e",
   "metadata": {},
   "outputs": [],
   "source": [
    "# PARAMETERS\n",
    "B_min = 0.1\n",
    "B_max = 1\n",
    "B_start = [1, 1, 1]\n",
    "v = [1,1.2,1]\n",
    "r_charge = np.array([0.15, 0.15, 0.15])\n",
    "r_deplete = np.array([0.3, 0.3, 0.3])\n",
    "\n",
    "# CREATE MODEL\n",
    "models = []\n",
    "epsilons = [0.1, 1]\n",
    "for epsilon in epsilons:\n",
    "    parameters = {p: eval(p) for p in ['B_min', 'B_max', 'B_start', 'v', 'r_charge', 'r_deplete']}\n",
    "    parameters['epsilon'] = epsilon\n",
    "    model = MultiUavModel(sc, parameters)\n",
    "    models.append(model)"
   ]
  },
  {
   "cell_type": "code",
   "execution_count": null,
   "id": "8d8845b7-c0cc-4194-bfed-21baccfb4cba",
   "metadata": {},
   "outputs": [],
   "source": [
    "solver = SolverFactory(\"mindtpy\")\n",
    "for model in tqdm(models):\n",
    "    solution = solver.solve(model, mip_solver='gurobi', nlp_solver='ipopt')"
   ]
  },
  {
   "cell_type": "code",
   "execution_count": null,
   "id": "b2bcf831-7fda-4086-a5dc-0cdcc4c394c6",
   "metadata": {},
   "outputs": [],
   "source": [
    "max_time = 0\n",
    "for model in models:\n",
    "    for d in model.d:\n",
    "        sim = Simulation.from_base_model(model, d).simulate()        \n",
    "        t = sim[1][-1]\n",
    "        max_time = max(max_time, t)\n",
    "\n",
    "for i, model in enumerate(models):    \n",
    "    fig, axes = plt.subplots(model.N_d, 1, figsize=(3,model.N_d), dpi=80, sharey=True)\n",
    "    fig.subplots_adjust(hspace=.4)\n",
    "    \n",
    "    for d in model.d:        \n",
    "        sim = Simulation.from_base_model(model, d)\n",
    "        sim.plot_charge(ax=axes[d], color=constants.W_COLORS[d])\n",
    "        # model.plot_charge(d, ax=axes[d], color=constants.W_COLORS[d])\n",
    "        \n",
    "        # set xtick\n",
    "        t = sim.simulate()[1][-1]\n",
    "        axes[d].set_xticks([t], [f\"{t:.2f}s\"])\n",
    "\n",
    "        axes[d].set_xlim([-.5, max_time+0.5])\n",
    "        if d != model.N_d - 1:\n",
    "            axes[d].set_xlabel(\"\")\n",
    "    \n",
    "    axes[model.N_d-1].set_xlabel(\"Time\")\n",
    "\n",
    "    plt.savefig(f\"out/multi_uav_battery_{i}.pdf\", bbox_inches=\"tight\")\n",
    "    plt.savefig(f\"out/multi_uav_battery_{i}.png\", dpi=500, bbox_inches=\"tight\")\n",
    "plt.show()"
   ]
  }
 ],
 "metadata": {
  "kernelspec": {
   "display_name": "Python 3 (ipykernel)",
   "language": "python",
   "name": "python3"
  },
  "language_info": {
   "codemirror_mode": {
    "name": "ipython",
    "version": 3
   },
   "file_extension": ".py",
   "mimetype": "text/x-python",
   "name": "python",
   "nbconvert_exporter": "python",
   "pygments_lexer": "ipython3",
   "version": "3.10.0"
  }
 },
 "nbformat": 4,
 "nbformat_minor": 5
}

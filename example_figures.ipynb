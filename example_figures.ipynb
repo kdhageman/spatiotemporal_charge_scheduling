{
 "cells": [
  {
   "cell_type": "code",
   "execution_count": null,
   "id": "2996bfd0-2be0-4e3e-9f12-80ef6d11a449",
   "metadata": {
    "pycharm": {
     "is_executing": true
    }
   },
   "outputs": [],
   "source": [
    "%reload_ext autoreload\n",
    "%autoreload 2\n",
    "\n",
    "from util.scenario import Scenario\n",
    "import numpy as np\n",
    "import matplotlib.pyplot as plt\n",
    "from pyomo_models.base import BaseModel\n",
    "from pyomo_models.multi_uavs import MultiUavModel\n",
    "from pyomo.opt import SolverFactory\n",
    "from simulate.simulate import Simulation\n",
    "from util import constants\n",
    "from tqdm.notebook import tqdm"
   ]
  },
  {
   "cell_type": "markdown",
   "id": "d1251152-8be5-415a-8981-2bae6767c9b6",
   "metadata": {},
   "source": [
    "# Base model"
   ]
  },
  {
   "cell_type": "code",
   "execution_count": null,
   "id": "898dc1ff-bf7d-4a56-91c8-4691bf4d373c",
   "metadata": {},
   "outputs": [],
   "source": [
    "sc = Scenario(\"scenarios/single_longer_path.yml\")\n",
    "\n",
    "_, ax = plt.subplots(figsize=(6,6), dpi=80)\n",
    "sc.plot(ax=ax, draw_distances=False)\n",
    "ax.set_aspect('equal', adjustable='box')\n",
    "ax.axis('off')\n",
    "plt.show()"
   ]
  },
  {
   "cell_type": "code",
   "execution_count": null,
   "id": "81adda52-8b71-4a5c-82f6-258534d34ed3",
   "metadata": {},
   "outputs": [],
   "source": [
    "# PARAMETERS\n",
    "B_min = 0.2\n",
    "B_max = 1\n",
    "B_start = [1]\n",
    "v = [1]\n",
    "r_charge = np.array([0.2])\n",
    "r_deplete = np.array([0.3])"
   ]
  },
  {
   "cell_type": "code",
   "execution_count": null,
   "id": "ff0aa0b6-665c-4e17-8675-ee91c2d4dc61",
   "metadata": {},
   "outputs": [],
   "source": [
    "parameters = {p: eval(p) for p in ['B_min', 'B_max', 'B_start', 'r_charge', 'r_deplete', 'v']}\n",
    "parameters['epsilon'] = 0.1\n",
    "model = BaseModel(sc, parameters)\n",
    "model.initialize_variables()"
   ]
  },
  {
   "cell_type": "code",
   "execution_count": null,
   "id": "552b1ed0-25a0-484e-afac-6345ec5f730c",
   "metadata": {},
   "outputs": [],
   "source": [
    "solver = SolverFactory(\"mindtpy\")\n",
    "solution = solver.solve(model, mip_solver='gurobi', nlp_solver='ipopt')"
   ]
  },
  {
   "cell_type": "code",
   "execution_count": null,
   "id": "49e08946-9e0c-4d32-bcb2-bb93d5056d15",
   "metadata": {},
   "outputs": [],
   "source": [
    "print(f\"The optimal execution time: {model.execution_time():.2f}s\")\n",
    "charging_time = sum(np.array(model.C[:,:]()))\n",
    "print(f\"Of this, the drone(s) spent {charging_time:.2f}s charging\")\n",
    "print(f\"Which means that the drone(s) spent {model.execution_time() - charging_time:.2f}s flying\")"
   ]
  },
  {
   "cell_type": "code",
   "execution_count": null,
   "id": "c01a8eb3-87fc-4f1e-800f-34ff35553c87",
   "metadata": {},
   "outputs": [],
   "source": [
    "axes = plt.subplots(1,2, figsize=(10,20), dpi=80) \n",
    "ax1, ax2= axes[1]\n",
    "\n",
    "# problem\n",
    "sc.plot(ax=ax1, draw_distances=False)\n",
    "ax1.set_aspect('equal', adjustable='box')\n",
    "ax1.axis('off')\n",
    "\n",
    "model.plot(ax=ax2)\n",
    "ax2.set_aspect('equal', adjustable='box')\n",
    "ax2.axis('off')\n",
    "\n",
    "plt.savefig(\"out/example_path.pdf\", bbox_inches=\"tight\")\n",
    "\n",
    "plt.show()"
   ]
  },
  {
   "cell_type": "code",
   "execution_count": null,
   "id": "49169590-8d61-44c0-a13a-a1ea1efee8ec",
   "metadata": {},
   "outputs": [],
   "source": [
    "_, ax = plt.subplots(figsize=(6,1), dpi=100)\n",
    "sim = Simulation.from_base_model(model, 0)\n",
    "sim.plot_charge(ax=ax, color='red')\n",
    "ax.set_xticks([])\n",
    "ax.set_xlabel(\"Time\")\n",
    "\n",
    "plt.savefig(\"out/example_battery_profile.pdf\", bbox_inches=\"tight\")\n",
    "plt.show()"
   ]
  },
  {
   "cell_type": "markdown",
   "id": "0ae514b8-77f7-4aad-b586-1ad6d17e4b70",
   "metadata": {},
   "source": [
    "# Multi-UAV ($\\epsilon$ impact)"
   ]
  },
  {
   "cell_type": "code",
   "execution_count": null,
   "id": "5e1b40e0-c2a1-4d04-af45-45cdfa2ef54d",
   "metadata": {},
   "outputs": [],
   "source": [
    "sc = Scenario(\"scenarios/three_drones_circling.yml\")\n",
    "# sc = Scenario(\"scenarios/two_longer_path.yaml\")\n",
    "\n",
    "_, ax = plt.subplots(figsize=(4,4), dpi=70)\n",
    "sc.plot(ax=ax, draw_distances=False)\n",
    "ax.set_aspect('equal', adjustable='box')\n",
    "ax.axis('off')\n",
    "\n",
    "plt.savefig(\"out/multi_uav_path.pdf\", bbox_inches=\"tight\")\n",
    "plt.show()"
   ]
  },
  {
   "cell_type": "code",
   "execution_count": null,
   "id": "9ef4d694-4d28-4195-ae3d-2addb5cb4515",
   "metadata": {},
   "outputs": [],
   "source": [
    "# PARAMETERS\n",
    "B_min = 0.1\n",
    "B_max = 1\n",
    "B_start = [1, 1, 1]\n",
    "v = [1,1.2,1]\n",
    "r_charge = np.array([0.3, 0.4, 0.45])\n",
    "r_deplete = np.array([0.35, 0.3, 0.3])\n",
    "\n",
    "# CREATE MODEL\n",
    "models = []\n",
    "epsilons = [0.1, 1]\n",
    "for epsilon in epsilons:\n",
    "    parameters = {p: eval(p) for p in ['B_min', 'B_max', 'B_start', 'v', 'r_charge', 'r_deplete']}\n",
    "    parameters['epsilon'] = epsilon\n",
    "    model = MultiUavModel(sc, parameters)\n",
    "    models.append(model)"
   ]
  },
  {
   "cell_type": "code",
   "execution_count": null,
   "id": "7f7b8aa2-28c1-41dd-95f9-314a42391f40",
   "metadata": {},
   "outputs": [],
   "source": [
    "solver = SolverFactory(\"mindtpy\")\n",
    "for model in tqdm(models):\n",
    "    solution = solver.solve(model, mip_solver='gurobi', nlp_solver='ipopt')"
   ]
  },
  {
   "cell_type": "code",
   "execution_count": null,
   "id": "f1e2f2aa-eb80-40b0-8d32-e8f53bb3be12",
   "metadata": {},
   "outputs": [],
   "source": [
    "max_time = 0\n",
    "for model in models:\n",
    "    for d in model.d:\n",
    "        sim = Simulation.from_base_model(model, d).simulate()        \n",
    "        t = sim[1][-1]\n",
    "        max_time = max(max_time, t)\n",
    "\n",
    "for i, model in enumerate(models):    \n",
    "    _, axes = plt.subplots(model.N_d, 1, figsize=(3,model.N_d), dpi=80, sharex=True, sharey=True)\n",
    "    \n",
    "    for d in model.d:        \n",
    "        Simulation.from_base_model(model, d).plot_charge(ax=axes[d], color=constants.W_COLORS[d])\n",
    "        if d != model.N_d - 1:\n",
    "            axes[d].set_xlabel(\"\")\n",
    "    axes[0].set_xlim([-.5, max_time+0.5])\n",
    "    axes[model.N_d-1].set_xlabel(\"Time\")\n",
    "    axes[model.N_d-1].set_xticks([])\n",
    "\n",
    "    plt.savefig(f\"out/multi_uav_battery_{i}.pdf\", bbox_inches=\"tight\")\n",
    "plt.show()"
   ]
  }
 ],
 "metadata": {
  "kernelspec": {
   "display_name": "Python 3 (ipykernel)",
   "language": "python",
   "name": "python3"
  },
  "language_info": {
   "codemirror_mode": {
    "name": "ipython",
    "version": 3
   },
   "file_extension": ".py",
   "mimetype": "text/x-python",
   "name": "python",
   "nbconvert_exporter": "python",
   "pygments_lexer": "ipython3",
   "version": "3.10.0"
  }
 },
 "nbformat": 4,
 "nbformat_minor": 5
}
